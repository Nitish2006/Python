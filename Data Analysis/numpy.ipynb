{
 "cells": [
  {
   "cell_type": "code",
   "execution_count": 1,
   "id": "58f5c4ac",
   "metadata": {},
   "outputs": [
    {
     "name": "stdout",
     "output_type": "stream",
     "text": [
      "(2,)\n",
      "(2, 2, 2)\n",
      "(2, 2, 2)\n"
     ]
    }
   ],
   "source": [
    "import numpy as np\n",
    "#1d\n",
    "arr=np.array([1,2])\n",
    "#2d\n",
    "arr1=np.array([[1,2],[3,4]])\n",
    "#3d\n",
    "arr2=np.array([[[1,2],[3,4]],[[5,6],[7,8]]])\n",
    "print(arr.shape)\n",
    "print(arr2.shape)\n",
    "print(arr2.shape)"
   ]
  },
  {
   "cell_type": "markdown",
   "id": "eedc75d9",
   "metadata": {},
   "source": [
    "array rep understanding\n",
    "1. 1d\n",
    "arr = [1, 2]\n",
    "Shape: (2,)\n",
    "Just one axis with two elements.\n",
    "\n",
    "2. 2D\n",
    "arr1 = [\n",
    "    [1, 2],\n",
    "    [3, 4]\n",
    "]\n",
    "Shape: (2, 2)\n",
    "- Two rows, two columns.\n",
    "\n",
    "\n",
    "\n",
    "\n",
    "3. 3D\n",
    "arr2 = [\n",
    "    [\n",
    "        [1, 2],  # First row, first block\n",
    "        [3, 4]   # Second row, first block\n",
    "    ],\n",
    "    [\n",
    "        [5, 6],  # First row, second block\n",
    "        [7, 8]   # Second row, second block\n",
    "    ]\n",
    "]\n",
    "Shape: (2, 2, 2)\n",
    "Visualizing the structure\n",
    "Each block represents a separate 2D array:\n",
    "Block 1 (Depth level 0):\n",
    "1  2\n",
    "3  4\n",
    "Block 2 (Depth level 1):\n",
    "5  6\n",
    "7  8\n",
    "\n",
    "\n",
    "Understanding Shape (2, 2, 2)\n",
    "- First 2 → Number of blocks (Depth layers)\n",
    "- Second 2 → Number of rows within each block\n",
    "- Third 2 → Number of columns within each row\n",
    "\n",
    "How to Index Elements?\n",
    "You use arr2[depth, row, column]. Example:\n",
    "- arr2[0, 0, 1] → First block (depth 0), first row (row 0), second column (column 1) → Value = 2\n",
    "- arr2[1, 1, 0] → Second block (depth 1), second row (row 1), first column (column 0) → Value = 7\n",
    "\n",
    "\n",
    "\n"
   ]
  },
  {
   "cell_type": "code",
   "execution_count": null,
   "id": "e08dafda",
   "metadata": {},
   "outputs": [
    {
     "name": "stdout",
     "output_type": "stream",
     "text": [
      "[[0]\n",
      " [2]\n",
      " [4]\n",
      " [6]\n",
      " [8]]\n"
     ]
    }
   ],
   "source": [
    "#arange and reshape\n",
    "arr10=np.arange(0,10,2).reshape(5,1)\n",
    "print(arr10)"
   ]
  },
  {
   "cell_type": "code",
   "execution_count": 7,
   "id": "1dad05ba",
   "metadata": {},
   "outputs": [
    {
     "name": "stdout",
     "output_type": "stream",
     "text": [
      "[[1. 1. 1. 1.]\n",
      " [1. 1. 1. 1.]\n",
      " [1. 1. 1. 1.]]\n"
     ]
    }
   ],
   "source": [
    "#np.ones\n",
    "a=np.ones((3,4))\n",
    "print(a)"
   ]
  },
  {
   "cell_type": "code",
   "execution_count": 9,
   "id": "03d6323c",
   "metadata": {},
   "outputs": [
    {
     "name": "stdout",
     "output_type": "stream",
     "text": [
      "[[1. 0. 0. 0. 0. 0. 0. 0. 0.]\n",
      " [0. 1. 0. 0. 0. 0. 0. 0. 0.]\n",
      " [0. 0. 1. 0. 0. 0. 0. 0. 0.]\n",
      " [0. 0. 0. 1. 0. 0. 0. 0. 0.]\n",
      " [0. 0. 0. 0. 1. 0. 0. 0. 0.]\n",
      " [0. 0. 0. 0. 0. 1. 0. 0. 0.]\n",
      " [0. 0. 0. 0. 0. 0. 1. 0. 0.]\n",
      " [0. 0. 0. 0. 0. 0. 0. 1. 0.]\n",
      " [0. 0. 0. 0. 0. 0. 0. 0. 1.]]\n"
     ]
    }
   ],
   "source": [
    "#np.eye\n",
    "b=np.eye(9)\n",
    "print(b)"
   ]
  },
  {
   "cell_type": "markdown",
   "id": "e904e05b",
   "metadata": {},
   "source": [
    "Bitwise"
   ]
  },
  {
   "cell_type": "code",
   "execution_count": 10,
   "id": "40117611",
   "metadata": {},
   "outputs": [
    {
     "name": "stdout",
     "output_type": "stream",
     "text": [
      "Addition: [11 22 33 44 55]\n",
      "Subtraction: [ -9 -18 -27 -36 -45]\n",
      "Multiplication: [ 10  40  90 160 250]\n",
      "Division: [0.1 0.1 0.1 0.1 0.1]\n"
     ]
    }
   ],
   "source": [
    "\n",
    "\n",
    "arr2 = np.array([1, 2, 3, 4, 5])\n",
    "arr3 = np.array([10, 20, 30, 40, 50])\n",
    "\n",
    "# Addition\n",
    "add_result = arr2 + arr3\n",
    "\n",
    "# Subtraction\n",
    "sub_result = arr2 - arr3\n",
    "\n",
    "# Multiplication\n",
    "mul_result = arr2 * arr3\n",
    "\n",
    "# Division\n",
    "div_result = arr2 / arr3\n",
    "\n",
    "print(\"Addition:\", add_result)\n",
    "print(\"Subtraction:\", sub_result)\n",
    "print(\"Multiplication:\", mul_result)\n",
    "print(\"Division:\", div_result)"
   ]
  },
  {
   "cell_type": "code",
   "execution_count": 12,
   "id": "77bfdc42",
   "metadata": {},
   "outputs": [
    {
     "name": "stdout",
     "output_type": "stream",
     "text": [
      "[1.         1.41421356 1.73205081 2.         2.23606798]\n",
      "[  2.71828183   7.3890561   20.08553692  54.59815003 148.4131591 ]\n",
      "[ 0.84147098  0.90929743  0.14112001 -0.7568025  -0.95892427]\n",
      "[0.         0.69314718 1.09861229 1.38629436 1.60943791]\n"
     ]
    }
   ],
   "source": [
    "#universal function\n",
    "print(np.sqrt(arr2))\n",
    "print(np.exp(arr2))\n",
    "print(np.sin(arr2))\n",
    "print(np.log(arr2))"
   ]
  },
  {
   "cell_type": "code",
   "execution_count": 16,
   "id": "427225c5",
   "metadata": {},
   "outputs": [
    {
     "name": "stdout",
     "output_type": "stream",
     "text": [
      "[ 9 10 11]\n",
      "[[1 2 3 4]\n",
      " [5 6 7 8]]\n"
     ]
    }
   ],
   "source": [
    "#slicling\n",
    "arr=np.array([[1,2,3,4],[5,6,7,8],[9,10,11,12]])\n",
    "print(arr[2,0:3])\n",
    "print(arr[0:2])"
   ]
  },
  {
   "cell_type": "code",
   "execution_count": 19,
   "id": "4303046e",
   "metadata": {},
   "outputs": [
    {
     "name": "stdout",
     "output_type": "stream",
     "text": [
      "[[1 2 3 4 list([13])]\n",
      " [6 7 8 9 10]]\n"
     ]
    }
   ],
   "source": [
    "import numpy as np\n",
    "\n",
    "# Creating a NumPy array with dtype=object to store lists\n",
    "arr = np.array([[1, 2, 3, 4, 5], [6, 7, 8, 9, 10]], dtype=object)\n",
    "\n",
    "# Modifying a specific element\n",
    "arr[0][4] = [13]  # Storing a list at index [0][4]\n",
    "\n",
    "print(arr)"
   ]
  },
  {
   "cell_type": "code",
   "execution_count": 23,
   "id": "ea383346",
   "metadata": {},
   "outputs": [
    {
     "name": "stdout",
     "output_type": "stream",
     "text": [
      "Mean: 3.0\n",
      "Median: 3.0\n",
      "variance 2.0\n"
     ]
    }
   ],
   "source": [
    "import numpy as np\n",
    "from scipy.stats import mode  # Import mode function from SciPy\n",
    "\n",
    "d = np.array([1, 2, 3, 4, 5])\n",
    "\n",
    "# Mean\n",
    "m = np.mean(d)\n",
    "\n",
    "# Median\n",
    "n = np.median(d)\n",
    "\n",
    "# Mode\n",
    "k = np.var(d)  # This returns a ModeResult object\n",
    "\n",
    "print(\"Mean:\", m)\n",
    "print(\"Median:\", n)\n",
    "print(\"variance\",k)  # Extract the mode value"
   ]
  },
  {
   "cell_type": "code",
   "execution_count": null,
   "id": "9fe3dda5",
   "metadata": {},
   "outputs": [
    {
     "data": {
      "text/plain": [
       "array([False, False, False, False, False])"
      ]
     },
     "execution_count": 24,
     "metadata": {},
     "output_type": "execute_result"
    }
   ],
   "source": [
    "#logical\n",
    "d>5"
   ]
  }
 ],
 "metadata": {
  "kernelspec": {
   "display_name": "base",
   "language": "python",
   "name": "python3"
  },
  "language_info": {
   "codemirror_mode": {
    "name": "ipython",
    "version": 3
   },
   "file_extension": ".py",
   "mimetype": "text/x-python",
   "name": "python",
   "nbconvert_exporter": "python",
   "pygments_lexer": "ipython3",
   "version": "3.12.7"
  }
 },
 "nbformat": 4,
 "nbformat_minor": 5
}
