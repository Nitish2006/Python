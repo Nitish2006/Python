{
 "cells": [
  {
   "cell_type": "markdown",
   "id": "3ed7460b",
   "metadata": {},
   "source": [
    "try and catch and finally,except\n",
    "Understanding Exceptions\n",
    "Exception handling in Python allows you to handle errors gracefully and take corrective actions without stopping the execution of the program. This lesson will cover the basics of exceptions, including how to use try, except, else, and finally blocks.\n",
    "\n",
    "What Are Exceptions?\n",
    "Exceptions are events that disrupt the normal flow of a program. They occur when an error is encountered during program execution.\n"
   ]
  },
  {
   "cell_type": "markdown",
   "id": "7b44d001",
   "metadata": {},
   "source": [
    "# Common Built-in Exceptions in Python\n",
    "\n",
    "# 1. SyntaxError – Occurs when the code has incorrect syntax.\n",
    "print(\"Hello\"   # Missing closing parenthesis\n",
    "\n",
    "# 2. TypeError – Happens when an operation is performed on an incorrect type.\n",
    "\"5\" + 5  # Trying to add a string and an integer\n",
    "\n",
    "# 3. ValueError – Raised when a function receives an invalid argument.\n",
    "int(\"abc\")  # Cannot convert a non-numeric string to an integer\n",
    "\n",
    "# 4. IndexError – Occurs when accessing an invalid index in a list.\n",
    "lst = [1, 2, 3]\n",
    "print(lst[5])  # Index out of range\n",
    "\n",
    "# 5. KeyError – Raised when trying to access a missing key in a dictionary.\n",
    "d = {\"name\": \"Nitish\"}\n",
    "print(d[\"age\"])  # Key 'age' does not exist\n",
    "\n",
    "# 6. AttributeError – Happens when an invalid attribute is accessed.\n",
    "class Test:\n",
    "    pass\n",
    "\n",
    "obj = Test()\n",
    "obj.name  # No attribute 'name' in class Test\n",
    "\n",
    "# 7. ZeroDivisionError – Raised when dividing by zero.\n",
    "print(10 / 0)  # Can't divide by zero\n",
    "\n",
    "# 8. ImportError – Occurs when a module cannot be imported.\n",
    "import nonexistent_module  # Module doesn't exist\n",
    "\n",
    "# 9. FileNotFoundError – Raised when trying to access a missing file.\n",
    "open(\"missing_file.txt\", \"r\")  # File does not exist\n",
    "\n",
    "# Additional Exceptions\n",
    "# OSError – Issues related to file operations and system errors.\n",
    "# MemoryError – Occurs when the program runs out of memory.\n",
    "# OverflowError – Raised when a number exceeds limits for a variable type.\n",
    "# KeyboardInterrupt – Triggered when the user interrupts execution (Ctrl+C).\n",
    "\n",
    "# Handling exceptions using try-except:\n",
    "try:\n",
    "    print(10 / 0)\n",
    "except ZeroDivisionError:\n",
    "    print(\"Cannot divide by zero!\")\n",
    "    "
   ]
  },
  {
   "cell_type": "code",
   "execution_count": 1,
   "id": "827e5afe",
   "metadata": {},
   "outputs": [
    {
     "name": "stdout",
     "output_type": "stream",
     "text": [
      "variable 'b' is not defined\n"
     ]
    }
   ],
   "source": [
    "try:\n",
    "    a=b \n",
    "except:\n",
    "    print(\"variable 'b' is not defined\")"
   ]
  },
  {
   "cell_type": "markdown",
   "id": "2a7c7ded",
   "metadata": {},
   "source": [
    "NameError"
   ]
  },
  {
   "cell_type": "code",
   "execution_count": 3,
   "id": "267c1a2f",
   "metadata": {},
   "outputs": [
    {
     "name": "stdout",
     "output_type": "stream",
     "text": [
      "name 'b' is not defined\n"
     ]
    }
   ],
   "source": [
    "try:\n",
    "    a=b \n",
    "except NameError as ex:\n",
    "    print(ex)"
   ]
  },
  {
   "cell_type": "markdown",
   "id": "d2becd9c",
   "metadata": {},
   "source": [
    "ZeroDevision error"
   ]
  },
  {
   "cell_type": "code",
   "execution_count": 8,
   "id": "b7ee6dff",
   "metadata": {},
   "outputs": [
    {
     "name": "stdout",
     "output_type": "stream",
     "text": [
      "division by zero\n"
     ]
    }
   ],
   "source": [
    "try:\n",
    "    result = 1 / 0\n",
    "except ZeroDivisionError as zex:  # Correct spelling\n",
    "    print(zex)  # Prints the error message"
   ]
  },
  {
   "cell_type": "markdown",
   "id": "5caa1014",
   "metadata": {},
   "source": [
    "FileNotFound"
   ]
  },
  {
   "cell_type": "code",
   "execution_count": 9,
   "id": "31546eb2",
   "metadata": {},
   "outputs": [
    {
     "name": "stdout",
     "output_type": "stream",
     "text": [
      "[Errno 2] No such file or directory: 'x.txt'\n"
     ]
    }
   ],
   "source": [
    "try:\n",
    "    with open('x.txt','r') as f:\n",
    "        d=f.read()\n",
    "        print(d)\n",
    "except FileNotFoundError as fnfex:\n",
    "    print(fnfex)"
   ]
  },
  {
   "cell_type": "markdown",
   "id": "8db7c671",
   "metadata": {},
   "source": [
    "ValueError"
   ]
  },
  {
   "cell_type": "code",
   "execution_count": 16,
   "id": "6c86e4b3",
   "metadata": {},
   "outputs": [
    {
     "name": "stdout",
     "output_type": "stream",
     "text": [
      "No exceptions were raised, execution continues normally.\n",
      "Execution completed, whether an error occurred or not.\n"
     ]
    }
   ],
   "source": [
    "try:\n",
    "    a=int(input(\"Enter a number: \"))\n",
    "    r=10/a\n",
    "except ValueError as vx:\n",
    "    print(vx)\n",
    "except ZeroDivisionError as zex:\n",
    "    print(\"You cannot divide by zero!\")\n",
    "except Exception as ex:\n",
    "    print(\"An unexpected error occurred:\", ex)\n",
    "else:\n",
    "    print(\"No exceptions were raised, execution continues normally.\")\n",
    "finally:\n",
    "    print(\"Execution completed, whether an error occurred or not.\")\n"
   ]
  },
  {
   "cell_type": "code",
   "execution_count": null,
   "id": "562a2a45",
   "metadata": {},
   "outputs": [
    {
     "name": "stdout",
     "output_type": "stream",
     "text": [
      "Syntax Error: '(' was never closed (<string>, line 1)\n",
      "Type Error: can only concatenate str (not \"int\") to str\n",
      "Value Error: invalid literal for int() with base 10: 'abc'\n",
      "Index Error: list index out of range\n",
      "Key Error: 'age'\n",
      "Attribute Error: 'Test' object has no attribute 'name'\n",
      "Zero Division Error: division by zero\n",
      "Module Not Found Error: No module named 'nonexistent_module'\n",
      "File Not Found Error: [Errno 2] No such file or directory: 'missing_file.txt'\n",
      "Name Error: name 'my_variable' is not defined\n",
      "Memory Error: \n",
      "Overflow Error: math range error\n"
     ]
    }
   ],
   "source": [
    "# Handling multiple Python exceptions\n",
    "\n",
    "# 1. SyntaxError – Invalid syntax\n",
    "try:\n",
    "    eval(\"print('Hello'\")  # Missing closing parenthesis\n",
    "except SyntaxError as e:\n",
    "    print(f\"Syntax Error: {e}\")\n",
    "\n",
    "# 2. TypeError – Incompatible operation\n",
    "try:\n",
    "    result = \"5\" + 5  # String + Integer issue\n",
    "except TypeError as e:\n",
    "    print(f\"Type Error: {e}\")\n",
    "\n",
    "# 3. ValueError – Function receives an invalid argument\n",
    "try:\n",
    "    num = int(\"abc\")  # Cannot convert a non-numeric string\n",
    "except ValueError as e:\n",
    "    print(f\"Value Error: {e}\")\n",
    "\n",
    "# 4. IndexError – Out-of-range index\n",
    "try:\n",
    "    lst = [1, 2, 3]\n",
    "    print(lst[5])  # Index out of range\n",
    "except IndexError as e:\n",
    "    print(f\"Index Error: {e}\")\n",
    "\n",
    "# 5. KeyError – Accessing a missing dictionary key\n",
    "try:\n",
    "    d = {\"name\": \"Nitish\"}\n",
    "    print(d[\"age\"])  # Key does not exist\n",
    "except KeyError as e:\n",
    "    print(f\"Key Error: {e}\")\n",
    "\n",
    "# 6. AttributeError – Accessing an invalid attribute\n",
    "try:\n",
    "    class Test:\n",
    "        pass\n",
    "\n",
    "    obj = Test()\n",
    "    obj.name  # No attribute 'name' in class Test\n",
    "except AttributeError as e:\n",
    "    print(f\"Attribute Error: {e}\")\n",
    "\n",
    "# 7. ZeroDivisionError – Dividing by zero\n",
    "try:\n",
    "    result = 10 / 0\n",
    "except ZeroDivisionError as e:\n",
    "    print(f\"Zero Division Error: {e}\")\n",
    "\n",
    "# 8. ImportError – Module import failure\n",
    "try:\n",
    "    import nonexistent_module  # Doesn't exist\n",
    "except ModuleNotFoundError as e:\n",
    "    print(f\"Module Not Found Error: {e}\")\n",
    "\n",
    "# 9. FileNotFoundError – Non-existent file\n",
    "try:\n",
    "    open(\"missing_file.txt\", \"r\")  # File does not exist\n",
    "except FileNotFoundError as e:\n",
    "    print(f\"File Not Found Error: {e}\")\n",
    "\n",
    "# 10. NameError – Using an undefined variable\n",
    "try:\n",
    "    print(my_variable)  # Variable is not defined\n",
    "except NameError as e:\n",
    "    print(f\"Name Error: {e}\")\n",
    "\n",
    "# 11. MemoryError – Excessive memory usage\n",
    "try:\n",
    "    big_list = [1] * (10**10)  # Huge allocation\n",
    "except MemoryError as e:\n",
    "    print(f\"Memory Error: {e}\")\n",
    "\n",
    "# 12. OverflowError – Exceeding numerical limits\n",
    "try:\n",
    "    import math\n",
    "    print(math.exp(1000))  # Too large\n",
    "except OverflowError as e:\n",
    "    print(f\"Overflow Error: {e}\")\n",
    "\n",
    "# 13. KeyboardInterrupt – User stops execution\n",
    "try:\n",
    "    while True:\n",
    "        pass  # Press Ctrl+C to interrupt\n",
    "except KeyboardInterrupt:\n",
    "    print(\"Execution interrupted by user.\")\n",
    "\n",
    "# 14. AssertionError – Failed assertion\n",
    "try:\n",
    "    x = 5\n",
    "    assert x > 10, \"x should be greater than 10!\"\n",
    "except AssertionError as e:\n",
    "    print(f\"Assertion Error: {e}\")\n",
    "\n",
    "# 15. RuntimeError – General error\n",
    "try:\n",
    "    raise RuntimeError(\"Something went wrong!\")\n",
    "except RuntimeError as e:\n",
    "    print(f\"Runtime Error: {e}\")\n",
    "\n",
    "# 16. StopIteration – Iteration exhaustion\n",
    "try:\n",
    "    iterator = iter([1, 2])\n",
    "    print(next(iterator))\n",
    "    print(next(iterator))\n",
    "    print(next(iterator))  # No more elements\n",
    "except StopIteration:\n",
    "    print(\"Iterator exhausted!\")\n",
    "\n",
    "# 17. UnicodeDecodeError – Encoding issue\n",
    "try:\n",
    "    byte_str = b'\\x80abc'\n",
    "    text = byte_str.decode('utf-8')  # Invalid UTF-8 sequence\n",
    "except UnicodeDecodeError as e:\n",
    "    print(f\"Unicode Decode Error: {e}\")\n",
    "\n",
    "# 18. IndentationError – Incorrect indentation\n",
    "try:\n",
    "    exec(\"def func():\\nprint('Hello')\")  # Incorrect indentation\n",
    "except IndentationError as e:\n",
    "    print(f\"Indentation Error: {e}\")\n",
    "\n",
    "# 19. RecursionError – Infinite recursion\n",
    "def recursive():\n",
    "    return recursive()\n",
    "\n",
    "try:\n",
    "    recursive()\n",
    "except RecursionError as e:\n",
    "    print(f\"Recursion Error: {e}\")\n",
    "\n",
    "# Using try-except-else-finally\n",
    "try:\n",
    "    result = 10 / 2\n",
    "except ZeroDivisionError:\n",
    "    print(\"Cannot divide by zero!\")\n",
    "else:\n",
    "    print(f\"Result: {result}\")  # Runs if no error occurs\n",
    "finally:\n",
    "    print(\"Execution completed.\")  # Always runs"
   ]
  }
 ],
 "metadata": {
  "kernelspec": {
   "display_name": "Python 3",
   "language": "python",
   "name": "python3"
  },
  "language_info": {
   "codemirror_mode": {
    "name": "ipython",
    "version": 3
   },
   "file_extension": ".py",
   "mimetype": "text/x-python",
   "name": "python",
   "nbconvert_exporter": "python",
   "pygments_lexer": "ipython3",
   "version": "3.12.0"
  }
 },
 "nbformat": 4,
 "nbformat_minor": 5
}
