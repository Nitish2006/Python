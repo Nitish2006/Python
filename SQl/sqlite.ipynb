{
 "cells": [
  {
   "cell_type": "code",
   "execution_count": 1,
   "id": "870344d0",
   "metadata": {},
   "outputs": [],
   "source": [
    "import sqlite3 as sql"
   ]
  },
  {
   "cell_type": "code",
   "execution_count": 2,
   "id": "35cb6947",
   "metadata": {},
   "outputs": [
    {
     "data": {
      "text/plain": [
       "<sqlite3.Connection at 0x204729009a0>"
      ]
     },
     "execution_count": 2,
     "metadata": {},
     "output_type": "execute_result"
    }
   ],
   "source": [
    "connection=sql.connect('example.db')\n",
    "connection"
   ]
  },
  {
   "cell_type": "code",
   "execution_count": 3,
   "id": "1452a021",
   "metadata": {},
   "outputs": [],
   "source": [
    "cursor= connection.cursor()"
   ]
  },
  {
   "cell_type": "code",
   "execution_count": 9,
   "id": "70cbdb56",
   "metadata": {},
   "outputs": [],
   "source": [
    "cursor.execute(\n",
    "    '''\n",
    "    Create Table  If Not Exists employees\n",
    "    (\n",
    "    id Integer Primary Key,\n",
    "    name Text Not Null,\n",
    "    age Integer,\n",
    "    department text\n",
    "    )\n",
    "    '''\n",
    ")\n",
    "##commit\n",
    "connection.commit()"
   ]
  },
  {
   "cell_type": "code",
   "execution_count": 8,
   "id": "2ff9a75b",
   "metadata": {},
   "outputs": [],
   "source": [
    "cursor.execute(\"DROP TABLE IF EXISTS employees\")\n",
    "connection.commit()"
   ]
  },
  {
   "cell_type": "code",
   "execution_count": 10,
   "id": "2c1c7ca6",
   "metadata": {},
   "outputs": [],
   "source": [
    "cursor.executemany('''\n",
    "    INSERT INTO employees (id, name, age, department) VALUES (?, ?, ?, ?)\n",
    "''', [\n",
    "    (1, 'Nisha', 29, 'HR'),\n",
    "    (2, 'Arjun', 35, 'Engineering'),\n",
    "    (3, 'Meera', 26, 'Design'),\n",
    "    (4, 'Rajat', 42, 'Marketing'),\n",
    "    (5, 'Divya', 31, 'Finance')\n",
    "])\n",
    "connection.commit()"
   ]
  },
  {
   "cell_type": "code",
   "execution_count": 19,
   "id": "623d1e0f",
   "metadata": {},
   "outputs": [
    {
     "name": "stdout",
     "output_type": "stream",
     "text": [
      "(1, 'Nisha', 29, 'HR')\n",
      "(2, 'Arjun', 35, 'Engineering')\n",
      "(4, 'Rajat', 34, 'Marketing')\n",
      "(5, 'Divya', 31, 'Finance')\n"
     ]
    }
   ],
   "source": [
    "cursor.execute('SELECT * FROM employees')\n",
    "result = cursor.fetchall()\n",
    "\n",
    "for row in result:\n",
    "    print(row)"
   ]
  },
  {
   "cell_type": "code",
   "execution_count": 15,
   "id": "6dfaab67",
   "metadata": {},
   "outputs": [],
   "source": [
    "cursor.execute(\n",
    "    '''\n",
    "    UPDATE  employees\n",
    "    Set age=34\n",
    "    where name=\"Rajat\"\n",
    "    '''\n",
    ")\n",
    "connection.commit()"
   ]
  },
  {
   "cell_type": "code",
   "execution_count": 18,
   "id": "495b3f12",
   "metadata": {},
   "outputs": [],
   "source": [
    "cursor.execute(\n",
    "    '''\n",
    "    DELETE from employees\n",
    "    where name=\"Meera\"\n",
    "    '''\n",
    ")\n",
    "connection.commit()"
   ]
  }
 ],
 "metadata": {
  "kernelspec": {
   "display_name": "Python 3",
   "language": "python",
   "name": "python3"
  },
  "language_info": {
   "codemirror_mode": {
    "name": "ipython",
    "version": 3
   },
   "file_extension": ".py",
   "mimetype": "text/x-python",
   "name": "python",
   "nbconvert_exporter": "python",
   "pygments_lexer": "ipython3",
   "version": "3.12.0"
  }
 },
 "nbformat": 4,
 "nbformat_minor": 5
}
