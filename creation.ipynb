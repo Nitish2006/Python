{
 "cells": [
  {
   "cell_type": "code",
   "execution_count": null,
   "id": "48ef3dd3",
   "metadata": {},
   "outputs": [
    {
     "name": "stdout",
     "output_type": "stream",
     "text": [
      "1\n"
     ]
    },
    {
     "data": {
      "text/plain": [
       "179"
      ]
     },
     "execution_count": 16,
     "metadata": {},
     "output_type": "execute_result"
    }
   ],
   "source": [
    "from package.subpackage import  subtraction,addition\n",
    "\n",
    "#print(addition(90, 89))\n",
    "print(subtraction(90, 89))\n",
    "addition(90, 89)  # This line will raise an error since addition is not imported"
   ]
  },
  {
   "cell_type": "code",
   "execution_count": 18,
   "id": "f2be3b95",
   "metadata": {},
   "outputs": [
    {
     "name": "stdout",
     "output_type": "stream",
     "text": [
      "8010\n"
     ]
    }
   ],
   "source": [
    "from package.subpackage.mul import multiplication\n",
    "print(multiplication(90, 89))  # This will work since multiplication is imported correctly"
   ]
  },
  {
   "cell_type": "code",
   "execution_count": null,
   "id": "63f0fda6",
   "metadata": {},
   "outputs": [
    {
     "data": {
      "text/plain": [
       "179"
      ]
     },
     "execution_count": 1,
     "metadata": {},
     "output_type": "execute_result"
    }
   ],
   "source": [
    "from package.subpackage import addition\n",
    "addition(90,89)\n"
   ]
  }
 ],
 "metadata": {
  "kernelspec": {
   "display_name": "Python 3",
   "language": "python",
   "name": "python3"
  },
  "language_info": {
   "codemirror_mode": {
    "name": "ipython",
    "version": 3
   },
   "file_extension": ".py",
   "mimetype": "text/x-python",
   "name": "python",
   "nbconvert_exporter": "python",
   "pygments_lexer": "ipython3",
   "version": "3.12.0"
  }
 },
 "nbformat": 4,
 "nbformat_minor": 5
}
