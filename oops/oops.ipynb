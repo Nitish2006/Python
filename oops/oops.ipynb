{
 "cells": [
  {
   "cell_type": "markdown",
   "id": "b35e46e4",
   "metadata": {},
   "source": [
    "Classes and objects\n",
    "oops is  a programming platform it uses objects to design applications and programs .Oop allows modelling forn real world case scenarios using a classes and objects"
   ]
  },
  {
   "cell_type": "code",
   "execution_count": 16,
   "id": "3e1d8aaa",
   "metadata": {},
   "outputs": [
    {
     "name": "stdout",
     "output_type": "stream",
     "text": [
      "Car is starting\n"
     ]
    }
   ],
   "source": [
    "# Defining a class for Car objects\n",
    "class Car:\n",
    "    #constructor method to initialize the attributes\n",
    "    def __init__(self, model, chassis, engine):  # Fixing the __init__ method\n",
    "        self.model = model\n",
    "        self.chassis = chassis\n",
    "        self.engine = engine\n",
    "\n",
    "    def start(self):  # Properly defined method inside the class\n",
    "        print(\"Car is starting\")\n",
    "    def price(self,price):\n",
    "        self.price=price\n",
    "    def budget(self,budget):\n",
    "        self.budget=budget\n",
    "    def check_budget(self):\n",
    "\n",
    "        if self.budget>= self.price:\n",
    "            print(\"You can buy this car\")\n",
    "        else:\n",
    "            print(\"You cannot buy this car it's over budget\")\n",
    "\n",
    "# Creating an instance of Car\n",
    "my_car = Car(\"Sedan\", \"ABC123\", \"V8\")\n",
    "my_car.start()  # Output: Car is starting"
   ]
  },
  {
   "cell_type": "code",
   "execution_count": 17,
   "id": "8fdfedaf",
   "metadata": {},
   "outputs": [],
   "source": [
    "# Create an object of the class Car\n",
    "Toyota=Car('Toyota','Corolla','V6')\n",
    "Audi=Car('Audi','Q87','V8')"
   ]
  },
  {
   "cell_type": "code",
   "execution_count": 18,
   "id": "14addcf0",
   "metadata": {},
   "outputs": [
    {
     "name": "stdout",
     "output_type": "stream",
     "text": [
      "Q87\n",
      "Audi\n"
     ]
    }
   ],
   "source": [
    "#accesing parameters of the class\n",
    "print(Audi.chassis)\n",
    "print(Audi.model)"
   ]
  },
  {
   "cell_type": "code",
   "execution_count": 19,
   "id": "2031aa02",
   "metadata": {},
   "outputs": [
    {
     "name": "stdout",
     "output_type": "stream",
     "text": [
      "Car is starting\n"
     ]
    }
   ],
   "source": [
    "#calling methodds off the class\n",
    "Audi.start()"
   ]
  },
  {
   "cell_type": "code",
   "execution_count": 20,
   "id": "781b8d81",
   "metadata": {},
   "outputs": [
    {
     "name": "stdout",
     "output_type": "stream",
     "text": [
      "You can buy this car\n"
     ]
    }
   ],
   "source": [
    "Audi.price(170000000)\n",
    "Audi.budget(200000000)\n",
    "Audi.check_budget()"
   ]
  }
 ],
 "metadata": {
  "kernelspec": {
   "display_name": "Python 3",
   "language": "python",
   "name": "python3"
  },
  "language_info": {
   "codemirror_mode": {
    "name": "ipython",
    "version": 3
   },
   "file_extension": ".py",
   "mimetype": "text/x-python",
   "name": "python",
   "nbconvert_exporter": "python",
   "pygments_lexer": "ipython3",
   "version": "3.12.0"
  }
 },
 "nbformat": 4,
 "nbformat_minor": 5
}
