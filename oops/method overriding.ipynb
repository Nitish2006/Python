{
 "cells": [
  {
   "cell_type": "markdown",
   "id": "8401327f",
   "metadata": {},
   "source": [
    "Method overiding\n",
    "\n",
    "Basic Concept\n",
    "Method overriding is a feature in object-oriented programming where a subclass provides a specific implementation for a method that is already defined in its superclass."
   ]
  },
  {
   "cell_type": "code",
   "execution_count": 3,
   "id": "9e67a217",
   "metadata": {},
   "outputs": [
    {
     "name": "stdout",
     "output_type": "stream",
     "text": [
      "🎬 A breathtaking moment! Bobby Deol transforms into Abrar in the dramatic scene 'Wedding's Scene 🍷', under the vision of Sandeep Reddy Vanga. What an unforgettable performance!\n"
     ]
    }
   ],
   "source": [
    "# Base class\n",
    "class Animal:\n",
    "    def __init__(self, director_name, actor_name, role):\n",
    "        self.role = role\n",
    "        self.director_name = director_name\n",
    "        self.actor_name = actor_name\n",
    "    \n",
    "    def get_appearence(self):\n",
    "        return f\"{self.actor_name} plays the role of {self.role} in a movie directed by {self.director_name}.\"\n",
    "\n",
    "# Child class with method overriding\n",
    "class Scene(Animal):\n",
    "    def __init__(self, director_name, actor_name, role, scene_name):\n",
    "        super().__init__(director_name, actor_name, role)\n",
    "        self.scene_name = scene_name\n",
    "    \n",
    "    # Overriding get_appearence method with a new message\n",
    "    def get_appearence(self):\n",
    "        return f\"🎬 A breathtaking moment! {self.actor_name} transforms into {self.role} in the dramatic scene '{self.scene_name}', under the vision of {self.director_name}. What an unforgettable performance!\"\n",
    "\n",
    "# Creating an instance of Scene\n",
    "scene = Scene(\"Sandeep Reddy Vanga\", \"Bobby Deol\", \"Abrar\", \"Wedding's Scene 🍷\")\n",
    "\n",
    "# Calling the overridden method\n",
    "print(scene.get_appearence())"
   ]
  },
  {
   "cell_type": "code",
   "execution_count": 10,
   "id": "0a4ad8af",
   "metadata": {},
   "outputs": [
    {
     "name": "stdout",
     "output_type": "stream",
     "text": [
      "Overwriting app.py\n"
     ]
    }
   ],
   "source": [
    "%%writefile app.py\n",
    "import streamlit as st\n",
    "import os\n",
    "\n",
    "# Base class\n",
    "class Animal:\n",
    "    def __init__(self, director_name, actor_name, role):\n",
    "        self.role = role\n",
    "        self.director_name = director_name\n",
    "        self.actor_name = actor_name\n",
    "    \n",
    "    def get_appearance(self):\n",
    "        return f\"{self.actor_name} plays the role of {self.role} in a movie directed by {self.director_name}.\"\n",
    "\n",
    "# Child class with method overriding\n",
    "class Scene(Animal):\n",
    "    def __init__(self, director_name, actor_name, role, scene_name):\n",
    "        super().__init__(director_name, actor_name, role)\n",
    "        self.scene_name = scene_name\n",
    "    \n",
    "    # Overriding method for Streamlit output\n",
    "    def get_appearance(self):\n",
    "        return f\"🎬 A breathtaking moment! {self.actor_name} transforms into {self.role} in the dramatic scene '{self.scene_name}', under the vision of {self.director_name}. What an unforgettable performance!\"\n",
    "\n",
    "# Streamlit UI\n",
    "st.title(\"🎥 Movie Scene Player\")\n",
    "st.subheader(\"Enter Scene Details:\")\n",
    "\n",
    "# Input fields\n",
    "director_name = st.text_input(\"🎬 Director's Name\", \"Sandeep Reddy Vanga\")\n",
    "actor_name = st.text_input(\"🎭 Actor's Name\", \"Bobby Deol\")\n",
    "role = st.text_input(\"🎭 Role\", \"Abrar\")\n",
    "scene_name = st.text_input(\"🎬 Scene Name\", \"Wedding's Scene 🍷\")\n",
    "\n",
    "# Fixed Video Path (Windows)\n",
    "video_path = r\"E:\\Code\\oops\\SSYouTube.online_ANIMAL_ ABRAR’S ENTRY - JAMAL KUDU(Full Video) _Ranbir Kapoor,Bobby Deol _Sandeep Vanga _Bhushan K_720p.mp4\"\n",
    "\n",
    "# Verify if the video file exists\n",
    "if os.path.exists(video_path):\n",
    "    st.subheader(\"📽️ Scene Video\")\n",
    "    st.video(video_path)  # Automatically plays the predefined video file\n",
    "else:\n",
    "    st.error(\"⚠️ Video file not found! Check the file path.\")\n",
    "\n",
    "# Generate scene description\n",
    "if st.button(\"Generate Scene\"):\n",
    "    if not director_name or not actor_name or not role or not scene_name:\n",
    "        st.error(\"⚠️ Please fill in all the details before proceeding!\")\n",
    "    else:\n",
    "        scene = Scene(director_name, actor_name, role, scene_name)\n",
    "        st.success(scene.get_appearance())  # Show message"
   ]
  },
  {
   "cell_type": "code",
   "execution_count": 11,
   "id": "5632e713",
   "metadata": {},
   "outputs": [
    {
     "name": "stdout",
     "output_type": "stream",
     "text": [
      "^C\n"
     ]
    }
   ],
   "source": [
    "!streamlit run app.py --server.headless true"
   ]
  }
 ],
 "metadata": {
  "kernelspec": {
   "display_name": "Python 3",
   "language": "python",
   "name": "python3"
  },
  "language_info": {
   "codemirror_mode": {
    "name": "ipython",
    "version": 3
   },
   "file_extension": ".py",
   "mimetype": "text/x-python",
   "name": "python",
   "nbconvert_exporter": "python",
   "pygments_lexer": "ipython3",
   "version": "3.12.0"
  }
 },
 "nbformat": 4,
 "nbformat_minor": 5
}
