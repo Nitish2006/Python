{
 "cells": [
  {
   "cell_type": "markdown",
   "id": "5714c298",
   "metadata": {},
   "source": [
    "Encapsulation in Object-Oriented Programming\n",
    "Definition: Encapsulation is a fundamental principle of object-oriented programming that:\n",
    "\n",
    "Bundles data and methods that operate on that data within a single unit (class)\n",
    "Restricts direct access to some of an object's components\n",
    "Provides controlled access through public methods\n",
    "Key Characteristics\n",
    "Data Hiding: Internal details are hidden from outside access\n",
    "Access Control: Uses modifiers like:\n",
    "private: Accessible only within the class\n",
    "protected: Accessible within the class and its subclasses\n",
    "public: Accessible from anywhere\n",
    "Simple Example (Python-like Pseudo-code)\n",
    "python\n",
    "class BankAccount:\n",
    "    def __init__(self):\n",
    "        self.__balance = 0  # Private attribute\n",
    "\n",
    "    def deposit(self, amount):\n",
    "        if amount > 0:\n",
    "            self.__balance += amount  # Controlled modification\n",
    "\n",
    "    def get_balance(self):\n",
    "        return self.__balance  # Controlled access\n",
    "Benefits:\n",
    "\n",
    "Increased security\n",
    "Better control of data modification\n",
    "Reduces system complexity\n",
    "Improves maintainability"
   ]
  },
  {
   "cell_type": "code",
   "execution_count": 3,
   "id": "94608fde",
   "metadata": {},
   "outputs": [
    {
     "name": "stdout",
     "output_type": "stream",
     "text": [
      "I am public\n",
      "Public method: I am public\n",
      "I am protected\n",
      "Protected method: I am protected\n"
     ]
    },
    {
     "ename": "AttributeError",
     "evalue": "'Example' object has no attribute '__private_var'",
     "output_type": "error",
     "traceback": [
      "\u001b[31m---------------------------------------------------------------------------\u001b[39m",
      "\u001b[31mAttributeError\u001b[39m                            Traceback (most recent call last)",
      "\u001b[36mCell\u001b[39m\u001b[36m \u001b[39m\u001b[32mIn[3]\u001b[39m\u001b[32m, line 36\u001b[39m\n\u001b[32m     33\u001b[39m \u001b[38;5;28mprint\u001b[39m(obj._protected_method())   \u001b[38;5;66;03m# ⚠️ Possible but not recommended\u001b[39;00m\n\u001b[32m     35\u001b[39m \u001b[38;5;66;03m# Accessing private variables and methods (direct access fails)\u001b[39;00m\n\u001b[32m---> \u001b[39m\u001b[32m36\u001b[39m \u001b[38;5;28mprint\u001b[39m(\u001b[43mobj\u001b[49m\u001b[43m.\u001b[49m\u001b[43m__private_var\u001b[49m)       \u001b[38;5;66;03m# ❌ AttributeError\u001b[39;00m\n\u001b[32m     37\u001b[39m \u001b[38;5;28mprint\u001b[39m(obj.__private_method())  \u001b[38;5;66;03m# ❌ AttributeError\u001b[39;00m\n\u001b[32m     39\u001b[39m \u001b[38;5;66;03m# Accessing private variables using name-mangling (not recommended)\u001b[39;00m\n",
      "\u001b[31mAttributeError\u001b[39m: 'Example' object has no attribute '__private_var'"
     ]
    }
   ],
   "source": [
    "class Example:\n",
    "    def __init__(self):\n",
    "        # Public variable: accessible from anywhere\n",
    "        self.public_var = \"I am public\"\n",
    "\n",
    "        # Protected variable: conventionally meant for internal use\n",
    "        self._protected_var = \"I am protected\"\n",
    "\n",
    "        # Private variable: name-mangled to prevent accidental access\n",
    "        self.__private_var = \"I am private\"\n",
    "\n",
    "    # Public method: accessible from anywhere\n",
    "    def public_method(self):\n",
    "        return f\"Public method: {self.public_var}\"\n",
    "\n",
    "    # Protected method: intended for internal use\n",
    "    def _protected_method(self):\n",
    "        return f\"Protected method: {self._protected_var}\"\n",
    "\n",
    "    # Private method: name-mangled, not directly accessible outside\n",
    "    def __private_method(self):\n",
    "        return f\"Private method: {self.__private_var}\"\n",
    "\n",
    "# Object creation\n",
    "obj = Example()\n",
    "\n",
    "# Accessing public variables and methods\n",
    "print(obj.public_var)            # ✅ Allowed\n",
    "print(obj.public_method())       # ✅ Allowed\n",
    "\n",
    "# Accessing protected variables and methods (discouraged but possible)\n",
    "print(obj._protected_var)        # ⚠️ Possible but not recommended\n",
    "print(obj._protected_method())   # ⚠️ Possible but not recommended\n",
    "\n",
    "# Accessing private variables and methods (direct access fails)\n",
    "print(obj.__private_var)       # ❌ AttributeError\n",
    "print(obj.__private_method())  # ❌ AttributeError\n",
    "\n",
    "# Accessing private variables using name-mangling (not recommended)\n",
    "print(obj._Example__private_var)      # ⚠️ Works, but discouraged\n",
    "print(obj._Example__private_method()) # ⚠️ Works, but discouraged"
   ]
  }
 ],
 "metadata": {
  "kernelspec": {
   "display_name": "Python 3",
   "language": "python",
   "name": "python3"
  },
  "language_info": {
   "codemirror_mode": {
    "name": "ipython",
    "version": 3
   },
   "file_extension": ".py",
   "mimetype": "text/x-python",
   "name": "python",
   "nbconvert_exporter": "python",
   "pygments_lexer": "ipython3",
   "version": "3.12.0"
  }
 },
 "nbformat": 4,
 "nbformat_minor": 5
}
