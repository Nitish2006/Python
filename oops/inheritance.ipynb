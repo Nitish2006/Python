{
 "cells": [
  {
   "cell_type": "markdown",
   "id": "35a04836",
   "metadata": {},
   "source": [
    "Inheritance\n",
    "# Defining a class for Car objects\n",
    "## Object-Oriented Programming: Inheritance\n",
    "\n",
    "**Inheritance** is a fundamental concept in object-oriented programming that allows a class to inherit attributes and methods from another class:\n",
    "\n",
    "- **Parent/Base Class**: The original class from which properties are inherited\n",
    "- **Child/Derived Class**: The class that inherits properties from the parent class\n",
    "\n",
    "### Key Characteristics:\n",
    "- Promotes code reusability\n",
    "- Supports the creation of hierarchical classifications\n",
    "- Allows for method overriding and extension of base class functionality\n",
    "\n",
    "#### Simple Python Example:\n",
    "```python  \n",
    "class Animal:  \n",
    "    def __init__(self, name):  \n",
    "        self.name = name  \n",
    "    \n",
    "    def speak(self):  \n",
    "        pass  \n",
    "\n",
    "class Dog(Animal):  \n",
    "    def speak(self):  \n",
    "        return f\"{self.name} says Woof!\"  \n"
   ]
  },
  {
   "cell_type": "code",
   "execution_count": null,
   "id": "d17918af",
   "metadata": {},
   "outputs": [
    {
     "name": "stdout",
     "output_type": "stream",
     "text": [
      "EV Car: 2020 Tesla Model S, Battery Size: 100 kWh\n",
      "The EV car Tesla Model S is stopping silently.\n"
     ]
    }
   ],
   "source": [
    "#single inheritance example\n",
    "#parent class\n",
    "class Car:\n",
    "    def __init__(self, make, model, year):\n",
    "        self.make = make\n",
    "        self.model = model\n",
    "        self.year = year\n",
    "\n",
    "    def display():\n",
    "        pass\n",
    "    def stop():\n",
    "        pass\n",
    "class EVCar(Car):\n",
    "    def __init__(self, make, model, year, battery_size):\n",
    "        super().__init__(make, model, year)\n",
    "        self.battery_size = battery_size\n",
    "\n",
    "    def display(self):\n",
    "        print(f\"EV Car: {self.year} {self.make} {self.model}, Battery Size: {self.battery_size} kWh\")\n",
    "\n",
    "    def stop(self):\n",
    "        print(f\"The EV car {self.make} {self.model} is stopping silently.\")\n",
    "c=EVCar(\"Tesla\", \"Model S\", 2020, 100)\n",
    "c.display()\n",
    "c.stop()"
   ]
  },
  {
   "cell_type": "code",
   "execution_count": 18,
   "id": "52066893",
   "metadata": {},
   "outputs": [],
   "source": [
    "#multilevel inheritance example\n",
    "#parent class\n",
    "class vechile:\n",
    "    def __init__(self,model,year):\n",
    "        self.model=model\n",
    "        self.year=year\n",
    "    def display(self):\n",
    "        pass\n",
    "    def stop(self):\n",
    "        pass\n",
    "class Car(vechile):\n",
    "    def __init__(self,model,year,make):\n",
    "        super().__init__(model, year)\n",
    "        self.make = make\n",
    "    def start(self):\n",
    "        pass\n",
    "class truck(Car):\n",
    "    def __init__(self, model, year, make, capacity):\n",
    "        super().__init__(model, year, make)\n",
    "        self.capacity = capacity\n",
    "\n",
    "    def display(self):\n",
    "        print(f\"Truck: {self.year} {self.make} {self.model}, Capacity: {self.capacity} tons\")\n",
    "\n",
    "    def stop(self):\n",
    "        print(f\"The truck {self.make} {self.model} is stopping with a heavy load.\")"
   ]
  },
  {
   "cell_type": "code",
   "execution_count": 19,
   "id": "1f5fe444",
   "metadata": {},
   "outputs": [
    {
     "name": "stdout",
     "output_type": "stream",
     "text": [
      "Truck: 2021 Ford Ford F-150, Capacity: 2.5 tons\n",
      "The truck Ford Ford F-150 is stopping with a heavy load.\n"
     ]
    }
   ],
   "source": [
    "c=truck(\"Ford F-150\", 2021, \"Ford\", 2.5)\n",
    "c.display()\n",
    "c.stop()\n",
    "c.start()"
   ]
  },
  {
   "cell_type": "code",
   "execution_count": 20,
   "id": "eaeae76a",
   "metadata": {},
   "outputs": [
    {
     "name": "stdout",
     "output_type": "stream",
     "text": [
      "Hybrid Car: 2022 Toyota Prius, Horsepower: 121, Wheel Size: 15 inches\n",
      "Engine with 121 HP is starting.\n",
      "Wheels of size 15 inches are rotating.\n",
      "The hybrid car Toyota Prius is stopping with both engine and wheels.\n"
     ]
    }
   ],
   "source": [
    "#multiple inheritance example\n",
    "#parent class\n",
    "class Engine:\n",
    "    def __init__(self, horsepower):\n",
    "        self.horsepower = horsepower\n",
    "\n",
    "    def start_engine(self):\n",
    "        print(f\"Engine with {self.horsepower} HP is starting.\")\n",
    "class Wheels:\n",
    "    def __init__(self, size):\n",
    "        self.size = size\n",
    "\n",
    "    def rotate(self):\n",
    "        print(f\"Wheels of size {self.size} inches are rotating.\")\n",
    "class HybridCar(Engine, Wheels):\n",
    "    def __init__(self, make, model, year, horsepower, size):\n",
    "        Engine.__init__(self, horsepower)\n",
    "        Wheels.__init__(self, size)\n",
    "        self.make = make\n",
    "        self.model = model\n",
    "        self.year = year\n",
    "\n",
    "    def display(self):\n",
    "        print(f\"Hybrid Car: {self.year} {self.make} {self.model}, Horsepower: {self.horsepower}, Wheel Size: {self.size} inches\")\n",
    "\n",
    "    def stop(self):\n",
    "        print(f\"The hybrid car {self.make} {self.model} is stopping with both engine and wheels.\")\n",
    "c = HybridCar(\"Toyota\", \"Prius\", 2022, 121, 15)\n",
    "c.display()\n",
    "c.start_engine()\n",
    "c.rotate()\n",
    "c.stop()"
   ]
  },
  {
   "cell_type": "code",
   "execution_count": 21,
   "id": "9efd5451",
   "metadata": {},
   "outputs": [
    {
     "name": "stdout",
     "output_type": "stream",
     "text": [
      "Car: Sedan - Toyota Camry\n",
      "Bike: Mountain - Giant\n",
      "Truck: Pickup - Ford, Capacity: 1.5 tons\n"
     ]
    }
   ],
   "source": [
    "#hierarchical inheritance example\n",
    "#parent class   \n",
    "class Vehicle:\n",
    "    def __init__(self, type):\n",
    "        self.type = type\n",
    "\n",
    "    def display(self):\n",
    "        print(f\"Vehicle Type: {self.type}\")\n",
    "class Car(Vehicle):\n",
    "    def __init__(self, type, make, model):\n",
    "        super().__init__(type)\n",
    "        self.make = make\n",
    "        self.model = model\n",
    "\n",
    "    def display(self):\n",
    "        print(f\"Car: {self.type} - {self.make} {self.model}\")\n",
    "class Bike(Vehicle):\n",
    "    def __init__(self, type, brand):\n",
    "        super().__init__(type)\n",
    "        self.brand = brand\n",
    "\n",
    "    def display(self):\n",
    "        print(f\"Bike: {self.type} - {self.brand}\")\n",
    "class Truck(Vehicle):\n",
    "    def __init__(self, type, make, capacity):\n",
    "        super().__init__(type)\n",
    "        self.make = make\n",
    "        self.capacity = capacity\n",
    "\n",
    "    def display(self):\n",
    "        print(f\"Truck: {self.type} - {self.make}, Capacity: {self.capacity} tons\")\n",
    "c1 = Car(\"Sedan\", \"Toyota\", \"Camry\")\n",
    "c2 = Bike(\"Mountain\", \"Giant\")\n",
    "c3 = Truck(\"Pickup\", \"Ford\", 1.5)\n",
    "c1.display()\n",
    "c2.display()\n",
    "c3.display()    \n"
   ]
  }
 ],
 "metadata": {
  "kernelspec": {
   "display_name": "Python 3",
   "language": "python",
   "name": "python3"
  },
  "language_info": {
   "codemirror_mode": {
    "name": "ipython",
    "version": 3
   },
   "file_extension": ".py",
   "mimetype": "text/x-python",
   "name": "python",
   "nbconvert_exporter": "python",
   "pygments_lexer": "ipython3",
   "version": "3.12.0"
  }
 },
 "nbformat": 4,
 "nbformat_minor": 5
}
