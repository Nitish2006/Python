{
 "cells": [
  {
   "cell_type": "markdown",
   "id": "d020274f",
   "metadata": {},
   "source": [
    "Temperature convert🌡️"
   ]
  },
  {
   "cell_type": "code",
   "execution_count": 1,
   "id": "93c368f7",
   "metadata": {},
   "outputs": [
    {
     "name": "stdout",
     "output_type": "stream",
     "text": [
      "Converted temperature:  50.55555555555556C\n"
     ]
    }
   ],
   "source": [
    "def convert_temperature(temp,unit):\n",
    "    if unit =='C':\n",
    "        return str( temp*1.8 +32) +\"F\"\n",
    "    else:\n",
    "        return str((temp-32)/1.8)+\"C\"\n",
    "temp=float(input(\"Enter temperature: \"))\n",
    "unit=input(\"Enter unit (C/F): \")    \n",
    "print(\"Converted temperature: \", convert_temperature(temp, unit))\n"
   ]
  },
  {
   "cell_type": "markdown",
   "id": "193421e4",
   "metadata": {},
   "source": [
    "Strongpass 🔑"
   ]
  },
  {
   "cell_type": "code",
   "execution_count": 5,
   "id": "5e7ae567",
   "metadata": {},
   "outputs": [
    {
     "name": "stdout",
     "output_type": "stream",
     "text": [
      "Strong password\n"
     ]
    }
   ],
   "source": [
    "def strong_pass(password):\n",
    "    if len(password)<8:\n",
    "        return False\n",
    "    elif not(any(char.isdigit()for char in password) or any(char.isupper()for char in password)or any(char.islower()for char in password)or any(char in '!@#$%^&*()-+' for char in password)):\n",
    "        return False\n",
    "    else:\n",
    "        return True\n",
    "password = input(\"Enter password: \")\n",
    "if strong_pass(password):\n",
    "    print(\"Strong password\")\n",
    "else:\n",
    "    print(\"Weak password\")"
   ]
  },
  {
   "cell_type": "markdown",
   "id": "879d3732",
   "metadata": {},
   "source": [
    "totalcost💵"
   ]
  },
  {
   "cell_type": "code",
   "execution_count": 11,
   "id": "977ade08",
   "metadata": {},
   "outputs": [
    {
     "name": "stdout",
     "output_type": "stream",
     "text": [
      "Total cost of cart: $ 12.200000000000001\n"
     ]
    }
   ],
   "source": [
    "import math\n",
    "def total_cost(cart):\n",
    "    total = 0\n",
    "    for item in cart:\n",
    "        total += item['price'] * item['quantity']\n",
    "    return total    \n",
    "cart = [\n",
    "    {'name': 'apple', 'price': 2, 'quantity': 4},\n",
    "    {'name': 'banana', 'price': 0.3, 'quantity': 6},\n",
    "    {'name': 'orange', 'price': 0.8, 'quantity': 3}\n",
    "]\n",
    "print(\"Total cost of cart: $\", total_cost(cart))"
   ]
  },
  {
   "cell_type": "markdown",
   "id": "c3e667dc",
   "metadata": {},
   "source": [
    "palincheck🔀"
   ]
  },
  {
   "cell_type": "code",
   "execution_count": 14,
   "id": "e973b468",
   "metadata": {},
   "outputs": [
    {
     "name": "stdout",
     "output_type": "stream",
     "text": [
      "The string is not a palindrome\n"
     ]
    }
   ],
   "source": [
    "def check_palindrome(s):\n",
    "    s = s.lower()\n",
    "    return s == s[::-1]\n",
    "s = input(\"Enter a string: \")\n",
    "if check_palindrome(s):\n",
    "    print(\"The string is a palindrome\")     \n",
    "else:\n",
    "    print(\"The string is not a palindrome\")"
   ]
  },
  {
   "cell_type": "markdown",
   "id": "17fc8d08",
   "metadata": {},
   "source": [
    "Read a file and count word freq📁"
   ]
  },
  {
   "cell_type": "code",
   "execution_count": 16,
   "id": "9d4520ef",
   "metadata": {},
   "outputs": [
    {
     "name": "stdout",
     "output_type": "stream",
     "text": [
      "File not found.\n"
     ]
    }
   ],
   "source": [
    "def frequency_of_wordsin_file(filename):\n",
    "    try:        \n",
    "        with open(filename, 'r') as file:\n",
    "            text = file.read()\n",
    "            words = text.split()\n",
    "            frequency = {}\n",
    "            for word in words:\n",
    "                word = word.lower().strip('.,!?\";:')\n",
    "                frequency[word] = frequency.get(word, 0) + 1\n",
    "            return frequency\n",
    "    except FileNotFoundError:   \n",
    "        print(\"File not found.\")\n",
    "        return {}\n",
    "filename = input(\"Enter the filename: \")\n",
    "word_freq = frequency_of_wordsin_file(filename)\n",
    "if word_freq:       \n",
    "    print(\"Word frequency in the file:\")\n",
    "    for word, count in word_freq.items():\n",
    "        print(f\"{word}: {count}\")\n"
   ]
  },
  {
   "cell_type": "markdown",
   "id": "4c61d392",
   "metadata": {},
   "source": [
    "lambda"
   ]
  },
  {
   "cell_type": "code",
   "execution_count": 17,
   "id": "c28f201f",
   "metadata": {},
   "outputs": [
    {
     "name": "stdout",
     "output_type": "stream",
     "text": [
      "odd\n"
     ]
    }
   ],
   "source": [
    "e_o=lambda x:\"even\" if x%2==0 else \"odd\"\n",
    "print(e_o(9))"
   ]
  },
  {
   "cell_type": "markdown",
   "id": "7a2cee14",
   "metadata": {},
   "source": [
    "filter"
   ]
  },
  {
   "cell_type": "code",
   "execution_count": 20,
   "id": "48df6db6",
   "metadata": {},
   "outputs": [
    {
     "name": "stdout",
     "output_type": "stream",
     "text": [
      "[1, 4, 9]\n"
     ]
    }
   ],
   "source": [
    "l = [1, 2, 3, 4, 5, 6, 7, 8, 9, 10]\n",
    "\n",
    "def is_square(n):\n",
    "    return int(n**0.5) ** 2 == n\n",
    "\n",
    "square_numbers = list(filter(is_square, l))\n",
    "print(square_numbers)  # Output: [1, 4, 9]"
   ]
  }
 ],
 "metadata": {
  "kernelspec": {
   "display_name": "Python 3",
   "language": "python",
   "name": "python3"
  },
  "language_info": {
   "codemirror_mode": {
    "name": "ipython",
    "version": 3
   },
   "file_extension": ".py",
   "mimetype": "text/x-python",
   "name": "python",
   "nbconvert_exporter": "python",
   "pygments_lexer": "ipython3",
   "version": "3.12.0"
  }
 },
 "nbformat": 4,
 "nbformat_minor": 5
}
