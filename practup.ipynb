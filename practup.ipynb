{
 "cells": [
  {
   "cell_type": "code",
   "execution_count": null,
   "id": "a56bac9e",
   "metadata": {},
   "outputs": [
    {
     "name": "stdout",
     "output_type": "stream",
     "text": [
      "(1, 2, 3, 4, 5, 6, 7, 8, 9, 10)\n"
     ]
    }
   ],
   "source": [
    "#tuplee of range\n",
    "# This code creates a tuple containing numbers from 1 to 10\n",
    "tup=tuple(range(1,11)\n",
    "          )\n",
    "print(tup)"
   ]
  },
  {
   "cell_type": "code",
   "execution_count": 2,
   "id": "b5a83257",
   "metadata": {},
   "outputs": [
    {
     "name": "stdout",
     "output_type": "stream",
     "text": [
      "<class 'tuple'>\n"
     ]
    }
   ],
   "source": [
    "print(type(tup))"
   ]
  },
  {
   "cell_type": "code",
   "execution_count": 5,
   "id": "d0a0dd46",
   "metadata": {},
   "outputs": [
    {
     "name": "stdout",
     "output_type": "stream",
     "text": [
      "1\n",
      "10\n",
      "(10, 9, 8, 7, 6, 5, 4, 3, 2, 1)\n"
     ]
    }
   ],
   "source": [
    "## Accessing the first element of the tuple\n",
    "print(tup[0])\n",
    "# Accessing the last element of the tuple\n",
    "print(tup[-1])\n",
    "print(tup[::-1])"
   ]
  },
  {
   "cell_type": "code",
   "execution_count": 11,
   "id": "0f841aad",
   "metadata": {},
   "outputs": [
    {
     "name": "stdout",
     "output_type": "stream",
     "text": [
      "10 11 12 \n",
      "7 8 9 \n",
      "4 5 6 \n"
     ]
    }
   ],
   "source": [
    "mat = (\n",
    "    (4, 5, 6),\n",
    "    (7, 8, 9),\n",
    "    (10, 11, 12)\n",
    ")\n",
    "\n",
    "for r in range(len(mat) - 1, -1, -1):  # Iterate over the rows in reverse order\n",
    "    for c in mat[r]:  # Access each tuple\n",
    "        print(c, end=' ')\n",
    "    print()  # New line after each row"
   ]
  },
  {
   "cell_type": "code",
   "execution_count": 16,
   "id": "a8dc8701",
   "metadata": {},
   "outputs": [
    {
     "name": "stdout",
     "output_type": "stream",
     "text": [
      "(1, 2, 3, (7, 8, 9), (10, 11, 12))\n",
      "(1, 2, 3, (7, 8, 9), (10, 11, 12), 1, 2, 3, (7, 8, 9), (10, 11, 12), 1, 2, 3, (7, 8, 9), (10, 11, 12), 1, 2, 3, (7, 8, 9), (10, 11, 12), 1, 2, 3, (7, 8, 9), (10, 11, 12), 1, 2, 3, (7, 8, 9), (10, 11, 12), 1, 2, 3, (7, 8, 9), (10, 11, 12), 1, 2, 3, (7, 8, 9), (10, 11, 12), 1, 2, 3, (7, 8, 9), (10, 11, 12), 1, 2, 3, (7, 8, 9), (10, 11, 12), 1, 2, 3, (7, 8, 9), (10, 11, 12), 1, 2, 3, (7, 8, 9), (10, 11, 12), 1, 2, 3, (7, 8, 9), (10, 11, 12), 1, 2, 3, (7, 8, 9), (10, 11, 12), 1, 2, 3, (7, 8, 9), (10, 11, 12), 1, 2, 3, (7, 8, 9), (10, 11, 12), 1, 2, 3, (7, 8, 9), (10, 11, 12), 1, 2, 3, (7, 8, 9), (10, 11, 12), 1, 2, 3, (7, 8, 9), (10, 11, 12), 1, 2, 3, (7, 8, 9), (10, 11, 12), 1, 2, 3, (7, 8, 9), (10, 11, 12), 1, 2, 3, (7, 8, 9), (10, 11, 12), 1, 2, 3, (7, 8, 9), (10, 11, 12), 1, 2, 3, (7, 8, 9), (10, 11, 12), 1, 2, 3, (7, 8, 9), (10, 11, 12), 1, 2, 3, (7, 8, 9), (10, 11, 12), 1, 2, 3, (7, 8, 9), (10, 11, 12), 1, 2, 3, (7, 8, 9), (10, 11, 12), 1, 2, 3, (7, 8, 9), (10, 11, 12), 1, 2, 3, (7, 8, 9), (10, 11, 12), 1, 2, 3, (7, 8, 9), (10, 11, 12), 1, 2, 3, (7, 8, 9), (10, 11, 12), 1, 2, 3, (7, 8, 9), (10, 11, 12), 1, 2, 3, (7, 8, 9), (10, 11, 12), 1, 2, 3, (7, 8, 9), (10, 11, 12), 1, 2, 3, (7, 8, 9), (10, 11, 12), 1, 2, 3, (7, 8, 9), (10, 11, 12), 1, 2, 3, (7, 8, 9), (10, 11, 12), 1, 2, 3, (7, 8, 9), (10, 11, 12), 1, 2, 3, (7, 8, 9), (10, 11, 12), 1, 2, 3, (7, 8, 9), (10, 11, 12), 1, 2, 3, (7, 8, 9), (10, 11, 12), 1, 2, 3, (7, 8, 9), (10, 11, 12), 1, 2, 3, (7, 8, 9), (10, 11, 12), 1, 2, 3, (7, 8, 9), (10, 11, 12), 1, 2, 3, (7, 8, 9), (10, 11, 12), 1, 2, 3, (7, 8, 9), (10, 11, 12), 1, 2, 3, (7, 8, 9), (10, 11, 12), 1, 2, 3, (7, 8, 9), (10, 11, 12), 1, 2, 3, (7, 8, 9), (10, 11, 12), 1, 2, 3, (7, 8, 9), (10, 11, 12), 1, 2, 3, (7, 8, 9), (10, 11, 12), 1, 2, 3, (7, 8, 9), (10, 11, 12), 1, 2, 3, (7, 8, 9), (10, 11, 12), 1, 2, 3, (7, 8, 9), (10, 11, 12), 1, 2, 3, (7, 8, 9), (10, 11, 12), 1, 2, 3, (7, 8, 9), (10, 11, 12), 1, 2, 3, (7, 8, 9), (10, 11, 12), 1, 2, 3, (7, 8, 9), (10, 11, 12), 1, 2, 3, (7, 8, 9), (10, 11, 12), 1, 2, 3, (7, 8, 9), (10, 11, 12), 1, 2, 3, (7, 8, 9), (10, 11, 12), 1, 2, 3, (7, 8, 9), (10, 11, 12), 1, 2, 3, (7, 8, 9), (10, 11, 12), 1, 2, 3, (7, 8, 9), (10, 11, 12), 1, 2, 3, (7, 8, 9), (10, 11, 12))\n",
      "False\n"
     ]
    }
   ],
   "source": [
    "#concatenation of tuples\n",
    "tup1 = (1, 2, 3)\n",
    "tup2=((7,8,9),(10,11,12))\n",
    "tup3=tup1+tup2\n",
    "print(tup3)\n",
    "# Repeating a tuple\n",
    "tup4=tup3*66\n",
    "print(tup4)\n",
    "# Checking if an element exists in a tuple\n",
    "print ( 92 in tup4)"
   ]
  },
  {
   "cell_type": "code",
   "execution_count": 31,
   "id": "405455f4",
   "metadata": {},
   "outputs": [
    {
     "name": "stdout",
     "output_type": "stream",
     "text": [
      "1 2 3\n",
      "6\n",
      "7\n",
      "5\n"
     ]
    }
   ],
   "source": [
    "#tup methods\n",
    "#print(tup4.count(3))\n",
    "#print(tup4.index(3))\n",
    "#tuple unpacking\n",
    "a,b,c=tup1\n",
    "print(a, b, c)\n",
    "#print(tup4.index(3, 0, 10))  # Searching for the index of 3 in the first 10 elements\n",
    "# 2d tup and 3d tup\n",
    "tup5 = (\n",
    "    (1, 2, 3),\n",
    "    (4, 5, 6),\n",
    "    (7, 8, 9)\n",
    ")\n",
    "# Accessing elements in a 2D tuple\n",
    "\n",
    "print(tup5[1][2])  # ✅ Third element of the second tuple (6)\n",
    "print(tup5[2][0])  # ✅ First element of the third tuple (7)\n",
    "print(tup5[1][1])  # ✅ Second element of the second tuple (5)"
   ]
  }
 ],
 "metadata": {
  "kernelspec": {
   "display_name": "Python 3",
   "language": "python",
   "name": "python3"
  },
  "language_info": {
   "codemirror_mode": {
    "name": "ipython",
    "version": 3
   },
   "file_extension": ".py",
   "mimetype": "text/x-python",
   "name": "python",
   "nbconvert_exporter": "python",
   "pygments_lexer": "ipython3",
   "version": "3.12.0"
  }
 },
 "nbformat": 4,
 "nbformat_minor": 5
}
