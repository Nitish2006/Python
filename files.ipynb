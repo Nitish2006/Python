{
 "cells": [
  {
   "cell_type": "code",
   "execution_count": 3,
   "id": "b0a948a5",
   "metadata": {},
   "outputs": [
    {
     "name": "stdout",
     "output_type": "stream",
     "text": [
      "jjjjjjjjjjjjjj\n",
      "oollllljjlvjcjch\n"
     ]
    }
   ],
   "source": [
    "with open('source.txt', 'r') as f:\n",
    "    d = f.read()\n",
    "    print(d)"
   ]
  },
  {
   "cell_type": "code",
   "execution_count": 5,
   "id": "a28f6c22",
   "metadata": {},
   "outputs": [
    {
     "name": "stdout",
     "output_type": "stream",
     "text": [
      "jjjjjjjjjjjjjj\n",
      "oollllljjlvjcjch\n"
     ]
    }
   ],
   "source": [
    "with open('source.txt', 'r') as f:\n",
    "    for line in f:\n",
    "        print(line.strip())\n"
   ]
  },
  {
   "cell_type": "code",
   "execution_count": 6,
   "id": "cc7b0511",
   "metadata": {},
   "outputs": [],
   "source": [
    "with open('destination.txt', 'w') as f:\n",
    "    f.write('This is a new file.\\n')\n",
    "    f.write('It contains some text.\\n')"
   ]
  },
  {
   "cell_type": "code",
   "execution_count": 7,
   "id": "b4fdbc16",
   "metadata": {},
   "outputs": [],
   "source": [
    "#without overwriting\n",
    "with open('destination.txt', 'a') as f:\n",
    "    f.write('This text is appended to the file.\\n')\n",
    "    f.write('Appending more text.\\n')"
   ]
  },
  {
   "cell_type": "code",
   "execution_count": 8,
   "id": "b63b9963",
   "metadata": {},
   "outputs": [],
   "source": [
    "#writing  multiple lines\n",
    "with open('destination.txt', 'a') as f: \n",
    "    lines = ['This is the first line.\\n', 'This is the second line.\\n']\n",
    "    f.writelines(lines)"
   ]
  },
  {
   "cell_type": "code",
   "execution_count": 9,
   "id": "03a6b90f",
   "metadata": {},
   "outputs": [],
   "source": [
    "with open('b.bin','wb') as f:\n",
    "    f.write(b'\\x00\\x01\\x02\\x03\\x04\\x05\\x06\\x07\\x08\\x09')"
   ]
  },
  {
   "cell_type": "code",
   "execution_count": 10,
   "id": "ae065cea",
   "metadata": {},
   "outputs": [],
   "source": [
    "with open('b.bin','ab') as f:\n",
    "    f.write(b'\\x0A\\x0B\\x0C\\x0D\\x0E\\x0F\\x10\\x11\\x12\\x13')"
   ]
  },
  {
   "cell_type": "code",
   "execution_count": 11,
   "id": "119f1a10",
   "metadata": {},
   "outputs": [
    {
     "name": "stdout",
     "output_type": "stream",
     "text": [
      "Number of lines: 2\n",
      "Number of words: 2\n",
      "Number of characters: 31\n"
     ]
    }
   ],
   "source": [
    "#read txt file\n",
    " #count number of lines,words,characters\n",
    "with open('source.txt', 'r') as f:  \n",
    "    l=f.readlines()\n",
    "    print(f'Number of lines: {len(l)}')\n",
    "    print(f'Number of words: {sum(len(line.split()) for line in l)}')\n",
    "    print(f'Number of characters: {sum(len(line) for line in l)}')  "
   ]
  }
 ],
 "metadata": {
  "kernelspec": {
   "display_name": "Python 3",
   "language": "python",
   "name": "python3"
  },
  "language_info": {
   "codemirror_mode": {
    "name": "ipython",
    "version": 3
   },
   "file_extension": ".py",
   "mimetype": "text/x-python",
   "name": "python",
   "nbconvert_exporter": "python",
   "pygments_lexer": "ipython3",
   "version": "3.12.0"
  }
 },
 "nbformat": 4,
 "nbformat_minor": 5
}
