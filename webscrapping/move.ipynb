{
 "cells": [
  {
   "cell_type": "code",
   "execution_count": 1,
   "id": "463c68f1",
   "metadata": {},
   "outputs": [],
   "source": [
    "import pandas as pd\n",
    "from bs4 import BeautifulSoup\n",
    "import requests"
   ]
  },
  {
   "cell_type": "code",
   "execution_count": 3,
   "id": "5951d8d2",
   "metadata": {},
   "outputs": [],
   "source": [
    "#requesting\n",
    "url=\"https://www.imdb.com/chart/top/\"\n",
    "headers = {\n",
    "    \"User-Agent\": \"Mozilla/5.0 (Windows NT 10.0; Win64; x64) AppleWebKit/537.36 (KHTML, like Gecko) Chrome/137.0.0.0 Safari/537.36 Edg/137.0.0.0\"\n",
    "}\n",
    "\n",
    "response=requests.get(url,headers=headers)"
   ]
  },
  {
   "cell_type": "code",
   "execution_count": 4,
   "id": "51f40b1e",
   "metadata": {},
   "outputs": [
    {
     "name": "stdout",
     "output_type": "stream",
     "text": [
      "                         Title  Year Duration Rating  \\\n",
      "0  1. The Shawshank Redemption  1994   2h 22m    9.3   \n",
      "1             2. The Godfather  1972   2h 55m    9.2   \n",
      "2           3. The Dark Knight  2008   2h 32m    9.0   \n",
      "3    4. The Godfather: Part II  1974   3h 22m    9.0   \n",
      "4              5. 12 Angry Men  1957   1h 36m    9.0   \n",
      "\n",
      "                                              Poster  \n",
      "0  https://m.media-amazon.com/images/M/MV5BMDAyY2...  \n",
      "1  https://m.media-amazon.com/images/M/MV5BZTg0Zj...  \n",
      "2  https://m.media-amazon.com/images/M/MV5BMTMxNT...  \n",
      "3  https://m.media-amazon.com/images/M/MV5BNDNkZD...  \n",
      "4  https://m.media-amazon.com/images/M/MV5BYjE4Nz...  \n"
     ]
    }
   ],
   "source": [
    "#webscrape\n",
    "import requests\n",
    "from bs4 import BeautifulSoup\n",
    "import pandas as pd\n",
    "\n",
    "url = \"https://www.imdb.com/chart/top/\"\n",
    "headers = {\n",
    "    \"User-Agent\": \"Mozilla/5.0 (Windows NT 10.0; Win64; x64) AppleWebKit/537.36 (KHTML, like Gecko) Chrome/137.0.0.0 Safari/537.36 Edg/137.0.0.0\"\n",
    "}\n",
    "\n",
    "response = requests.get(url, headers=headers)\n",
    "\n",
    "soup = BeautifulSoup(response.text, \"html.parser\")  # 🔁 Fix parser type (was: \"html-parser\")\n",
    "movies = soup.select('div.cli-children')  # 🔁 Correct selector (was: 'div.cli.title')\n",
    "\n",
    "d = []  # ✅ Define list before loop\n",
    "\n",
    "for movie in movies:\n",
    "    try:\n",
    "        title = movie.select_one('h3.ipc-title__text').get_text(strip=True)\n",
    "        meta = movie.select(\"span.cli-title-metadata-item\")  # 🔁 Typo fixed: metadat-item ➝ metadata-item\n",
    "        year = meta[0].text.strip() if len(meta) > 0 else \"N/A\"\n",
    "        duration = meta[1].text.strip() if len(meta) > 1 else \"N/A\"\n",
    "        rating = movie.select_one(\"[data-testid='ratingGroup--imdb-rating'] span.ipc-rating-star--rating\").text.strip()\n",
    "        poster = movie.find_previous(\"img\")[\"src\"]\n",
    "\n",
    "        d.append({\n",
    "            \"Title\": title,\n",
    "            \"Year\": year,\n",
    "            \"Duration\": duration,\n",
    "            \"Rating\": rating,\n",
    "            \"Poster\": poster\n",
    "        })\n",
    "\n",
    "    except Exception as e:  # 🔁 Syntax fix: `Exception e` ➝ `Exception as e`\n",
    "        print(f\"❌ ERROR: {e}\")\n",
    "\n",
    "# ✅ Move this OUTSIDE the for-loop\n",
    "df = pd.DataFrame(d)\n",
    "df.to_csv('imdb.csv', index=False)\n",
    "print(df.head())\n"
   ]
  }
 ],
 "metadata": {
  "kernelspec": {
   "display_name": "Python 3",
   "language": "python",
   "name": "python3"
  },
  "language_info": {
   "codemirror_mode": {
    "name": "ipython",
    "version": 3
   },
   "file_extension": ".py",
   "mimetype": "text/x-python",
   "name": "python",
   "nbconvert_exporter": "python",
   "pygments_lexer": "ipython3",
   "version": "3.12.0"
  }
 },
 "nbformat": 4,
 "nbformat_minor": 5
}
