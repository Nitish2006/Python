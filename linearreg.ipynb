{
 "cells": [
  {
   "cell_type": "code",
   "execution_count": 1,
   "id": "da6ecd11",
   "metadata": {},
   "outputs": [
    {
     "name": "stdout",
     "output_type": "stream",
     "text": [
      "    a  b  c   d\n",
      "0   5  2  1  10\n",
      "1   7  3  2  20\n",
      "2   8  4  3  30\n",
      "3   9  5  4  40\n",
      "4  10  6  5  50\n"
     ]
    }
   ],
   "source": [
    "import pandas as pd \n",
    "a={'a':[5,7,8,9,10],'b':[2,3,4,5,6],'c':[1,2,3,4,5],'d':[10,20,30,40,50]}\n",
    "k=pd.DataFrame(a)\n",
    "print(k)"
   ]
  }
 ],
 "metadata": {
  "kernelspec": {
   "display_name": "Python 3",
   "language": "python",
   "name": "python3"
  },
  "language_info": {
   "codemirror_mode": {
    "name": "ipython",
    "version": 3
   },
   "file_extension": ".py",
   "mimetype": "text/x-python",
   "name": "python",
   "nbconvert_exporter": "python",
   "pygments_lexer": "ipython3",
   "version": "3.12.0"
  }
 },
 "nbformat": 4,
 "nbformat_minor": 5
}
