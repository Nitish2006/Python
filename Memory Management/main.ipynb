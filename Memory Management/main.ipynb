{
 "cells": [
  {
   "cell_type": "markdown",
   "id": "fbf7c5a3",
   "metadata": {},
   "source": [
    "Reference counting is a memory management technique where each object keeps track of how many references point to it. When the count drops to zero, the object is automatically deallocated.\n"
   ]
  },
  {
   "cell_type": "code",
   "execution_count": 2,
   "id": "c3c93a9a",
   "metadata": {},
   "outputs": [
    {
     "name": "stdout",
     "output_type": "stream",
     "text": [
      "2\n"
     ]
    }
   ],
   "source": [
    "#ref\n",
    "import sys\n",
    "a=[]\n",
    "print(sys.getrefcount(a))# on refrence is of variable aandother is function's reference"
   ]
  },
  {
   "cell_type": "code",
   "execution_count": 5,
   "id": "a22be1a5",
   "metadata": {},
   "outputs": [
    {
     "name": "stdout",
     "output_type": "stream",
     "text": [
      "3\n"
     ]
    }
   ],
   "source": [
    "b=a\n",
    "print(sys.getrefcount(a))#here third ref is b\n"
   ]
  },
  {
   "cell_type": "code",
   "execution_count": 7,
   "id": "72dbd019",
   "metadata": {},
   "outputs": [
    {
     "ename": "NameError",
     "evalue": "name 'b' is not defined",
     "output_type": "error",
     "traceback": [
      "\u001b[1;31m---------------------------------------------------------------------------\u001b[0m",
      "\u001b[1;31mNameError\u001b[0m                                 Traceback (most recent call last)",
      "Cell \u001b[1;32mIn[7], line 2\u001b[0m\n\u001b[0;32m      1\u001b[0m \u001b[38;5;28;01mdel\u001b[39;00m b\n\u001b[1;32m----> 2\u001b[0m \u001b[38;5;28mprint\u001b[39m(sys\u001b[38;5;241m.\u001b[39mgetrefcount(b))\n",
      "\u001b[1;31mNameError\u001b[0m: name 'b' is not defined"
     ]
    }
   ],
   "source": [
    "del b\n",
    "print(sys.getrefcount(b))"
   ]
  },
  {
   "cell_type": "code",
   "execution_count": null,
   "id": "f4d27d37",
   "metadata": {},
   "outputs": [
    {
     "name": "stdout",
     "output_type": "stream",
     "text": [
      "2\n"
     ]
    }
   ],
   "source": [
    "print(sys.getrefcount(a))\n",
    "#it is two when the b is deleted"
   ]
  },
  {
   "cell_type": "markdown",
   "id": "1af6b42d",
   "metadata": {},
   "source": [
    "## garbage collector\n",
    "🧹 Python’s Garbage Collector (GC) goes beyond reference counting by detecting reference cycles—situations where objects reference each other, preventing cleanup even when unreachable. For performance-critical environments like trading systems, tuning the GC can reduce memory overhead and latency."
   ]
  },
  {
   "cell_type": "code",
   "execution_count": 10,
   "id": "a2adffcf",
   "metadata": {},
   "outputs": [],
   "source": [
    "import gc\n",
    "gc.enable()"
   ]
  },
  {
   "cell_type": "code",
   "execution_count": 11,
   "id": "c8204078",
   "metadata": {},
   "outputs": [],
   "source": [
    "gc.disable()"
   ]
  },
  {
   "cell_type": "code",
   "execution_count": 12,
   "id": "14624234",
   "metadata": {},
   "outputs": [
    {
     "data": {
      "text/plain": [
       "318"
      ]
     },
     "execution_count": 12,
     "metadata": {},
     "output_type": "execute_result"
    }
   ],
   "source": [
    "gc.collect()"
   ]
  },
  {
   "cell_type": "code",
   "execution_count": 14,
   "id": "7827034f",
   "metadata": {},
   "outputs": [
    {
     "name": "stdout",
     "output_type": "stream",
     "text": [
      "[{'collections': 264, 'collected': 1937, 'uncollectable': 0}, {'collections': 24, 'collected': 939, 'uncollectable': 0}, {'collections': 3, 'collected': 392, 'uncollectable': 0}]\n"
     ]
    }
   ],
   "source": [
    "print(gc.get_stats())"
   ]
  },
  {
   "cell_type": "code",
   "execution_count": 15,
   "id": "1b14f424",
   "metadata": {},
   "outputs": [
    {
     "name": "stdout",
     "output_type": "stream",
     "text": [
      "[]\n"
     ]
    }
   ],
   "source": [
    "#unreachable\n",
    "print(gc.garbage)"
   ]
  },
  {
   "cell_type": "markdown",
   "id": "c8517710",
   "metadata": {},
   "source": [
    "### 🧠 Best Practices for Memory Management in Python\n",
    "\n",
    "- **Use Built-in Data Structures Wisely**  \n",
    "  Prefer `tuple` over `list` when immutability is desired—it’s smaller and faster.\n",
    "\n",
    "- **Avoid Unnecessary Object Creation**  \n",
    "  Reuse objects where possible and avoid repetitive instantiation inside loops.\n",
    "\n",
    "- **Delete Unused Variables**  \n",
    "  Use `del` to manually delete large variables when they’re no longer needed.\n",
    "\n",
    "- **Leverage Generators**  \n",
    "  Use generator expressions and `yield` to process large datasets lazily.\n",
    "\n",
    "- **Monitor with `gc` Module**  \n",
    "  Use the `gc` module to analyze and clean up reference cycles manually.\n",
    "\n",
    "- **Profile Memory Usage**  \n",
    "  Tools like `memory_profiler` or `tracemalloc` can help identify memory leaks.\n",
    "\n",
    "- **Minimize Global Variables**  \n",
    "  Globals persist in memory—use local variables in functions when possible.\n",
    "\n",
    "- **Use `__slots__` in Classes**  \n",
    "  Reduce memory overhead in custom objects by using `__slots__` to limit attributes.\n",
    "\n",
    "<sub>Tip: Combine good coding practices with regular profiling to write scalable and memory-efficient applications.</sub>"
   ]
  },
  {
   "cell_type": "code",
   "execution_count": 35,
   "id": "7f06135f",
   "metadata": {},
   "outputs": [
    {
     "name": "stdout",
     "output_type": "stream",
     "text": [
      "Object obj1 created\n",
      "Object obj2 created\n",
      "Object obj1 is deleted\n",
      "Object obj2 is deleted\n"
     ]
    },
    {
     "data": {
      "text/plain": [
       "9"
      ]
     },
     "execution_count": 35,
     "metadata": {},
     "output_type": "execute_result"
    }
   ],
   "source": [
    "import gc\n",
    "\n",
    "class M:\n",
    "    def __init__(self, name):\n",
    "        self.name = name\n",
    "        print(f\"Object {self.name} created\")\n",
    "\n",
    "    def __del__(self):\n",
    "        print(f\"Object {self.name} is deleted\")\n",
    "\n",
    "o = M(\"obj1\")\n",
    "o1 = M(\"obj2\")\n",
    "o.ref = o1\n",
    "o1.ref = o\n",
    "\n",
    "# Break the references\n",
    "del o\n",
    "del o1\n",
    "\n",
    "# Manually trigger garbage collection\n",
    "gc.collect()"
   ]
  },
  {
   "cell_type": "markdown",
   "id": "59b99313",
   "metadata": {},
   "source": [
    "# generators for memory efficiency"
   ]
  },
  {
   "cell_type": "code",
   "execution_count": 36,
   "id": "cfd9d25e",
   "metadata": {},
   "outputs": [
    {
     "name": "stdout",
     "output_type": "stream",
     "text": [
      "0\n",
      "1\n",
      "2\n",
      "3\n",
      "4\n",
      "5\n",
      "6\n",
      "7\n",
      "8\n",
      "9\n",
      "10\n",
      "11\n"
     ]
    }
   ],
   "source": [
    "def generate_num(n):\n",
    "    for i in range(n):\n",
    "        yield i\n",
    "for num in generate_num(1000):\n",
    "    print(num)\n",
    "    if num>10:\n",
    "        break"
   ]
  },
  {
   "cell_type": "code",
   "execution_count": null,
   "id": "042836c6",
   "metadata": {},
   "outputs": [],
   "source": [
    "#Profiling\n"
   ]
  }
 ],
 "metadata": {
  "kernelspec": {
   "display_name": "base",
   "language": "python",
   "name": "python3"
  },
  "language_info": {
   "codemirror_mode": {
    "name": "ipython",
    "version": 3
   },
   "file_extension": ".py",
   "mimetype": "text/x-python",
   "name": "python",
   "nbconvert_exporter": "python",
   "pygments_lexer": "ipython3",
   "version": "undefined.undefined.undefined"
  }
 },
 "nbformat": 4,
 "nbformat_minor": 5
}
