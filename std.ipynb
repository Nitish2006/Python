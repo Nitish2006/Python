{
 "cells": [
  {
   "cell_type": "code",
   "execution_count": 4,
   "id": "273f3502",
   "metadata": {},
   "outputs": [
    {
     "name": "stdout",
     "output_type": "stream",
     "text": [
      "array('i', [0, 1, 2, 3, 4, 5])\n"
     ]
    }
   ],
   "source": [
    "import array\n",
    "arr=array.array('i',[0, 1, 2, 3, 4, 5])\n",
    "print(arr)"
   ]
  },
  {
   "cell_type": "code",
   "execution_count": 5,
   "id": "44c0ff61",
   "metadata": {},
   "outputs": [
    {
     "data": {
      "text/plain": [
       "4.0"
      ]
     },
     "execution_count": 5,
     "metadata": {},
     "output_type": "execute_result"
    }
   ],
   "source": [
    "import math\n",
    "math.sqrt(16)"
   ]
  },
  {
   "cell_type": "code",
   "execution_count": 7,
   "id": "96928207",
   "metadata": {},
   "outputs": [
    {
     "name": "stdout",
     "output_type": "stream",
     "text": [
      "6\n",
      "1\n"
     ]
    }
   ],
   "source": [
    "import random\n",
    "print(random.randint(1, 10))\n",
    "print(random.choice(arr))"
   ]
  },
  {
   "cell_type": "code",
   "execution_count": null,
   "id": "89d71173",
   "metadata": {},
   "outputs": [
    {
     "name": "stdout",
     "output_type": "stream",
     "text": [
      "e:\\Code\n"
     ]
    }
   ],
   "source": [
    "import os\n",
    "print(os.getcwd())#this will print the current working directory"
   ]
  },
  {
   "cell_type": "code",
   "execution_count": 9,
   "id": "803a2285",
   "metadata": {},
   "outputs": [
    {
     "data": {
      "text/plain": [
       "'destination.txt'"
      ]
     },
     "execution_count": 9,
     "metadata": {},
     "output_type": "execute_result"
    }
   ],
   "source": [
    "import shutil\n",
    "shutil.copy('source.txt', 'destination.txt')  # Copy a file"
   ]
  },
  {
   "cell_type": "code",
   "execution_count": 12,
   "id": "e099d249",
   "metadata": {},
   "outputs": [
    {
     "name": "stdout",
     "output_type": "stream",
     "text": [
      "{\"name\": \"Alice\", \"age\": 30, \"city\": \"New York\"}\n",
      "<class 'dict'>\n"
     ]
    }
   ],
   "source": [
    "#serialization example\n",
    "import json\n",
    "data = {'name': 'Alice', 'age': 30, 'city': 'New York'}\n",
    "json_string = json.dumps(data)\n",
    "print(json_string)  # Convert dictionary to JSON string\n",
    "pd= json.loads(json_string)  # Convert JSON string back to dictionary\n",
    "print(type(pd))  # Print the dictionary"
   ]
  },
  {
   "cell_type": "code",
   "execution_count": 13,
   "id": "e7173685",
   "metadata": {},
   "outputs": [],
   "source": [
    "import csv\n",
    "with open ('data.csv', mode='w', newline='') as file:\n",
    "    writer = csv.writer(file)\n",
    "    writer.writerow(['Name', 'Age', 'City'])\n",
    "    writer.writerow(['Alice', 30, 'New York'])\n",
    "    writer.writerow(['Bob', 25, 'Los Angeles'])"
   ]
  },
  {
   "cell_type": "code",
   "execution_count": 15,
   "id": "67fe41ab",
   "metadata": {},
   "outputs": [
    {
     "name": "stdout",
     "output_type": "stream",
     "text": [
      "2025-06-07 08:50:12.409529\n",
      "2025-06-08 08:50:12.409529\n",
      "2025-06-07 08:50:12\n"
     ]
    }
   ],
   "source": [
    "from datetime import datetime,timedelta\n",
    "print(datetime.now()\n",
    "      \n",
    "\n",
    "      )\n",
    "print(datetime.now() + timedelta(days=1))  # Add one day to the current date\n",
    "print(datetime.now().strftime('%Y-%m-%d %H:%M:%S'))  # Format current date and time"
   ]
  },
  {
   "cell_type": "code",
   "execution_count": 17,
   "id": "e71948a6",
   "metadata": {},
   "outputs": [
    {
     "name": "stdout",
     "output_type": "stream",
     "text": [
      "1749266471.6342053\n",
      "Sat Jun  7 08:51:12 2025\n"
     ]
    }
   ],
   "source": [
    "import time\n",
    "print(time.time())\n",
    "time.sleep(1)  # Sleep for 1 second\n",
    "print(time.ctime())  # Print current time in a human-readable format"
   ]
  },
  {
   "cell_type": "markdown",
   "id": "11546aa1",
   "metadata": {},
   "source": []
  },
  {
   "cell_type": "code",
   "execution_count": 18,
   "id": "add51bf2",
   "metadata": {},
   "outputs": [
    {
     "name": "stdout",
     "output_type": "stream",
     "text": [
      "['123', '456']\n"
     ]
    },
    {
     "name": "stderr",
     "output_type": "stream",
     "text": [
      "<>:2: SyntaxWarning: invalid escape sequence '\\d'\n",
      "<>:2: SyntaxWarning: invalid escape sequence '\\d'\n",
      "C:\\Users\\HP\\AppData\\Local\\Temp\\ipykernel_11256\\3174641996.py:2: SyntaxWarning: invalid escape sequence '\\d'\n",
      "  pattern='\\d+'\n"
     ]
    }
   ],
   "source": [
    "import re\n",
    "pattern='\\d+'\n",
    "t='there is 123 and 456 in this text'\n",
    "matches = re.findall(pattern, t)\n",
    "print(matches)  # Print all matches of the pattern in the text"
   ]
  }
 ],
 "metadata": {
  "kernelspec": {
   "display_name": "Python 3",
   "language": "python",
   "name": "python3"
  },
  "language_info": {
   "codemirror_mode": {
    "name": "ipython",
    "version": 3
   },
   "file_extension": ".py",
   "mimetype": "text/x-python",
   "name": "python",
   "nbconvert_exporter": "python",
   "pygments_lexer": "ipython3",
   "version": "3.12.0"
  }
 },
 "nbformat": 4,
 "nbformat_minor": 5
}
