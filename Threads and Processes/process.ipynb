{
 "cells": [
  {
   "cell_type": "markdown",
   "id": "db048e8a",
   "metadata": {},
   "source": [
    "Processes run in parallel are known as multi processes\n",
    "CPU bound task that are heavy on CPU uses\n"
   ]
  },
  {
   "cell_type": "code",
   "execution_count": 6,
   "id": "baaa9fd8",
   "metadata": {},
   "outputs": [
    {
     "name": "stdout",
     "output_type": "stream",
     "text": [
      "Total execution time: 0.10 seconds\n"
     ]
    }
   ],
   "source": [
    "import multiprocessing\n",
    "import time\n",
    "\n",
    "def sq():\n",
    "    for i in range(8):\n",
    "        time.sleep(2)\n",
    "        print(f\"Squares: {i**2}\")\n",
    "\n",
    "def cube():\n",
    "    time.sleep(2)\n",
    "    for i in range(8):\n",
    "        print(f\"cubes: {i**3}\")\n",
    "\n",
    "if __name__ == \"__main__\":\n",
    "    p1 = multiprocessing.Process(target=sq)\n",
    "    p2 = multiprocessing.Process(target=cube)\n",
    "\n",
    "    t = time.time()\n",
    "\n",
    "    p1.start()\n",
    "    p2.start()\n",
    "\n",
    "    p1.join()\n",
    "    p2.join()\n",
    "\n",
    "    ft = time.time() - t\n",
    "    print(f\"Total execution time: {ft:.2f} seconds\")"
   ]
  }
 ],
 "metadata": {
  "kernelspec": {
   "display_name": "Python 3",
   "language": "python",
   "name": "python3"
  },
  "language_info": {
   "codemirror_mode": {
    "name": "ipython",
    "version": 3
   },
   "file_extension": ".py",
   "mimetype": "text/x-python",
   "name": "python",
   "nbconvert_exporter": "python",
   "pygments_lexer": "ipython3",
   "version": "3.12.0"
  }
 },
 "nbformat": 4,
 "nbformat_minor": 5
}
