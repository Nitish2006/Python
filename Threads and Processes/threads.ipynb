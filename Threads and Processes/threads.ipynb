{
 "cells": [
  {
   "cell_type": "code",
   "execution_count": 9,
   "id": "e8f30cc2",
   "metadata": {},
   "outputs": [
    {
     "name": "stdout",
     "output_type": "stream",
     "text": [
      "Number0\n",
      "Letter:a\n",
      "Number1\n",
      "Number2\n",
      "Letter:b\n",
      "Number3\n",
      "Letter:c\n",
      "Number4\n",
      "Letter:d\n",
      "Letter:e\n",
      "15.008155345916748\n"
     ]
    }
   ],
   "source": [
    "import threading\n",
    "import time\n",
    "def printprime():\n",
    "    for i in range(5):\n",
    "        time.sleep(2)\n",
    "        print(f\"Number{i}\")\n",
    "def print_letter():\n",
    "    for letter in \"abcde\":\n",
    "        time.sleep(3)\n",
    "        print(f\"Letter:{letter}\")\n",
    "t1=threading.Thread(target=printprime)\n",
    "t2=threading.Thread(target=print_letter)\n",
    "t=time.time()\n",
    "t1.start()\n",
    "t2.start()\n",
    "#wait\n",
    "t1.join()\n",
    "t2.join()\n",
    "\n",
    "ft=time.time()-t\n",
    "print(ft)"
   ]
  },
  {
   "cell_type": "code",
   "execution_count": null,
   "id": "2270ab4d",
   "metadata": {},
   "outputs": [],
   "source": []
  }
 ],
 "metadata": {
  "kernelspec": {
   "display_name": "Python 3",
   "language": "python",
   "name": "python3"
  },
  "language_info": {
   "codemirror_mode": {
    "name": "ipython",
    "version": 3
   },
   "file_extension": ".py",
   "mimetype": "text/x-python",
   "name": "python",
   "nbconvert_exporter": "python",
   "pygments_lexer": "ipython3",
   "version": "3.12.0"
  }
 },
 "nbformat": 4,
 "nbformat_minor": 5
}
