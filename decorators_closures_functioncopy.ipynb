{
 "cells": [
  {
   "cell_type": "markdown",
   "metadata": {},
   "source": [
    "# Decorators, Closures, and Function Copy Examples\n",
    "\n",
    "This notebook contains simple examples to help you understand:\n",
    "- How decorators work, including using the `@` syntax\n",
    "- How closures work in Python\n",
    "- How function copying works (references vs copies)"
   ]
  },
  {
   "cell_type": "code",
   "execution_count": 1,
   "metadata": {},
   "outputs": [
    {
     "name": "stdout",
     "output_type": "stream",
     "text": [
      "=== Before the function ===\n",
      "Hi!\n",
      "=== After the function ===\n"
     ]
    }
   ],
   "source": [
    "# 1. Decorator with Manual Application\n",
    "def greet_decorator(func):\n",
    "    def wrapper():\n",
    "        print(\"=== Before the function ===\")\n",
    "        func()\n",
    "        print(\"=== After the function ===\")\n",
    "    return wrapper\n",
    "\n",
    "def say_hi():\n",
    "    print(\"Hi!\")\n",
    "\n",
    "# Apply decorator manually\n",
    "decorated_say_hi = greet_decorator(say_hi)\n",
    "\n",
    "# Call the decorated function\n",
    "decorated_say_hi()"
   ]
  },
  {
   "cell_type": "code",
   "execution_count": 2,
   "metadata": {},
   "outputs": [
    {
     "name": "stdout",
     "output_type": "stream",
     "text": [
      "=== Before Greeting ===\n",
      "Hi!\n",
      "=== After Greeting ===\n"
     ]
    }
   ],
   "source": [
    "# 2. Decorator with @ syntax\n",
    "def greet_decorator(func):\n",
    "    def wrapper():\n",
    "        print(\"=== Before Greeting ===\")\n",
    "        func()\n",
    "        print(\"=== After Greeting ===\")\n",
    "    return wrapper\n",
    "\n",
    "@greet_decorator\n",
    "def say_hello():\n",
    "    print(\"Hi!\")\n",
    "\n",
    "# Call the decorated function\n",
    "say_hello()"
   ]
  },
  {
   "cell_type": "code",
   "execution_count": 3,
   "metadata": {},
   "outputs": [
    {
     "name": "stdout",
     "output_type": "stream",
     "text": [
      "20\n",
      "50\n"
     ]
    }
   ],
   "source": [
    "# 3. Closure Example: Creating Multiplier Functions\n",
    "def make_multiplier(x):\n",
    "    def multiplier(n):\n",
    "        return n * x\n",
    "    return multiplier\n",
    "\n",
    "# Create two multiplier functions with different values\n",
    "times_two = make_multiplier(2)\n",
    "times_five = make_multiplier(5)\n",
    "\n",
    "print(times_two(10))  # 20\n",
    "print(times_five(10)) # 50"
   ]
  },
  {
   "cell_type": "code",
   "execution_count": 4,
   "metadata": {},
   "outputs": [
    {
     "name": "stdout",
     "output_type": "stream",
     "text": [
      "Hi!\n",
      "Hi!\n",
      "Hello!\n",
      "Hi!\n"
     ]
    }
   ],
   "source": [
    "# 4. Function Copy (Reference) in Python\n",
    "def say_hi():\n",
    "    print(\"Hi!\")\n",
    "\n",
    "# Assigning the same function to another variable (reference)\n",
    "say_hi_copy = say_hi\n",
    "\n",
    "say_hi()        # Output: Hi!\n",
    "say_hi_copy()   # Output: Hi!\n",
    "\n",
    "# Redefining the original function\n",
    "def say_hi():\n",
    "    print(\"Hello!\")\n",
    "\n",
    "say_hi()        # Output: Hello!\n",
    "say_hi_copy()   # Output: Hello!"
   ]
  }
 ],
 "metadata": {
  "kernelspec": {
   "display_name": "base",
   "language": "python",
   "name": "python3"
  },
  "language_info": {
   "codemirror_mode": {
    "name": "ipython",
    "version": 3
   },
   "file_extension": ".py",
   "mimetype": "text/x-python",
   "name": "python",
   "nbconvert_exporter": "python",
   "pygments_lexer": "ipython3",
   "version": "3.12.7"
  }
 },
 "nbformat": 4,
 "nbformat_minor": 5
}
