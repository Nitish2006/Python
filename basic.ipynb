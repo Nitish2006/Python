{
 "cells": [
  {
   "cell_type": "markdown",
   "id": "d83db849",
   "metadata": {},
   "source": [
    "#python syntax:"
   ]
  },
  {
   "cell_type": "code",
   "execution_count": null,
   "id": "889565c9",
   "metadata": {},
   "outputs": [],
   "source": [
    "'''multi comment'''\n",
    "## this single line comment"
   ]
  }
 ],
 "metadata": {
  "kernelspec": {
   "display_name": "Python 3",
   "language": "python",
   "name": "python3"
  },
  "language_info": {
   "name": "python",
   "version": "3.12.0"
  }
 },
 "nbformat": 4,
 "nbformat_minor": 5
}
