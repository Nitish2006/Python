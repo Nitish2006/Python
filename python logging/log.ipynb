{
 "cells": [
  {
   "cell_type": "markdown",
   "id": "663443a4",
   "metadata": {},
   "source": [
    "Absolutely, Nitish! Here's a complete **Markdown guide on Python's `logging` module**—with both theory and code examples—to help you understand not just how to use it, but *why* it's so useful in real-world applications.\n",
    "\n",
    "---\n",
    "\n",
    "# 🧠 Python Logging: Theory + Practice\n",
    "\n",
    "## 📌 Why Logging?\n",
    "\n",
    "In any software project—especially as it scales—`print()` statements just won’t cut it. You need a structured way to:\n",
    "\n",
    "- Monitor what's happening inside your program\n",
    "- Capture warnings, errors, and diagnostic info\n",
    "- Track bugs in production without interrupting the user experience\n",
    "\n",
    "That’s where Python's built-in `logging` module comes in.\n",
    "\n",
    "---\n",
    "\n",
    "## ⚙️ Key Logging Levels\n",
    "\n",
    "Logging messages have different **severity levels**:\n",
    "\n",
    "| Level     | Purpose                                   |\n",
    "|-----------|--------------------------------------------|\n",
    "| `DEBUG`   | Low-level system info, useful for debugging |\n",
    "| `INFO`    | Confirmation that things are working        |\n",
    "| `WARNING` | Something unexpected but not crashing       |\n",
    "| `ERROR`   | Serious problem that has occurred           |\n",
    "| `CRITICAL`| Major failure, program may not continue     |\n",
    "\n",
    "---\n",
    "\n",
    "## 🔨 Basic Logging Setup\n",
    "\n",
    "```python\n",
    "import logging\n",
    "\n",
    "# Configure default logging\n",
    "logging.basicConfig(level=logging.INFO)\n",
    "\n",
    "logging.debug(\"Debug details\")\n",
    "logging.info(\"App started successfully\")\n",
    "logging.warning(\"Disk space running low\")\n",
    "logging.error(\"File not found\")\n",
    "logging.critical(\"System crash imminent\")\n",
    "```\n",
    "\n",
    "> By default, only `WARNING` and above are shown. Use `level=logging.DEBUG` to see all logs.\n",
    "\n",
    "---\n",
    "\n",
    "## 🎨 Custom Format\n",
    "\n",
    "```python\n",
    "logging.basicConfig(\n",
    "    format=\"%(asctime)s - %(levelname)s - %(message)s\",\n",
    "    datefmt=\"%H:%M:%S\",\n",
    "    level=logging.DEBUG\n",
    ")\n",
    "```\n",
    "\n",
    "This outputs messages like:\n",
    "\n",
    "```\n",
    "10:13:45 - INFO - Started data extraction\n",
    "```\n",
    "\n",
    "---\n",
    "\n",
    "## 📁 Logging to a File\n",
    "\n",
    "Want to log everything to a `.log` file instead of the console?\n",
    "\n",
    "```python\n",
    "logging.basicConfig(\n",
    "    filename=\"app.log\",\n",
    "    level=logging.INFO,\n",
    "    format=\"%(asctime)s - %(levelname)s - %(message)s\"\n",
    ")\n",
    "```\n",
    "\n",
    "Now all logs are saved to `app.log`.\n",
    "\n",
    "---\n",
    "\n",
    "## 🔧 Using Named Loggers\n",
    "\n",
    "```python\n",
    "logger = logging.getLogger(\"my_logger\")\n",
    "logger.setLevel(logging.DEBUG)\n",
    "\n",
    "handler = logging.FileHandler(\"my_log.log\")\n",
    "formatter = logging.Formatter(\"%(levelname)s:%(message)s\")\n",
    "handler.setFormatter(formatter)\n",
    "\n",
    "logger.addHandler(handler)\n",
    "\n",
    "logger.info(\"Custom logger in action\")\n",
    "```\n",
    "\n",
    "This is helpful when building larger apps or working with multiple modules.\n",
    "\n",
    "---\n",
    "\n",
    "## 💡 When to Use Logging vs Print?\n",
    "\n",
    "| Use Case        | Use `print()`         | Use `logging`             |\n",
    "|-----------------|-----------------------|----------------------------|\n",
    "| Quick test      | ✅                    | ❌                        |\n",
    "| Debugging code  | ⚠️ Limited            | ✅ Adjustable levels, rich context |\n",
    "| Production apps | ❌ Not recommended     | ✅ Preferred & scalable     |\n",
    "\n",
    "---\n",
    "\n",
    "Want to integrate logging with your scraping script or Streamlit dashboard? Or maybe build a decorator that logs function calls? I can show you how to level that up too! 🛠️✨ Let me know what direction you'd like to take next."
   ]
  },
  {
   "cell_type": "code",
   "execution_count": 19,
   "id": "0597a1ca",
   "metadata": {},
   "outputs": [
    {
     "name": "stderr",
     "output_type": "stream",
     "text": [
      "DEBUG:root:this is a debug\n",
      "INFO:root:this info msg\n",
      "CRITICAL:root:this is critical\n",
      "ERROR:root:this an error\n",
      "WARNING:root:warning log\n"
     ]
    }
   ],
   "source": [
    "import logging\n",
    "logging.basicConfig(level=logging.DEBUG)\n",
    "#log message\n",
    "logging.debug(\"this is a debug\")\n",
    "logging.info(\"this info msg\")\n",
    "logging.critical('this is critical')\n",
    "#logging.fatal('this is afatal')\n",
    "logging.error(\"this an error\")\n",
    "logging.warning(\"warning log\")"
   ]
  },
  {
   "cell_type": "code",
   "execution_count": 17,
   "id": "05116336",
   "metadata": {},
   "outputs": [
    {
     "name": "stderr",
     "output_type": "stream",
     "text": [
      "DEBUG:root:This is a debug message\n",
      "INFO:root:This is an info message\n",
      "WARNING:root:This is a warning\n",
      "ERROR:root:This is an error\n",
      "CRITICAL:root:This is a critical error\n"
     ]
    }
   ],
   "source": [
    "import logging\n",
    "import os\n",
    "\n",
    "# Define the directory and file name\n",
    "log_dir = r\"E:\\Code\\python logging\"  # 'r' to treat it as a raw string (handles backslashes)\n",
    "log_filename = \"app.log\"\n",
    "log_path = os.path.join(log_dir, log_filename)\n",
    "\n",
    "# Create the log directory if it doesn't exist\n",
    "os.makedirs(log_dir, exist_ok=True)\n",
    "\n",
    "# Configure logging to use the full path\n",
    "logging.basicConfig(\n",
    "    filename=log_path,\n",
    "    filemode='w',  # Overwrite on each run\n",
    "    level=logging.DEBUG,\n",
    "    format='%(asctime)s - %(name)s - %(levelname)s - %(message)s',\n",
    "    datefmt='%Y-%m-%d %H:%M:%S'\n",
    ")\n",
    "\n",
    "# Log some sample messages\n",
    "logging.debug(\"This is a debug message\")\n",
    "logging.info(\"This is an info message\")\n",
    "logging.warning(\"This is a warning\")\n",
    "logging.error(\"This is an error\")\n",
    "logging.critical(\"This is a critical error\")"
   ]
  },
  {
   "cell_type": "code",
   "execution_count": 20,
   "id": "f6311d63",
   "metadata": {},
   "outputs": [
    {
     "name": "stderr",
     "output_type": "stream",
     "text": [
      "DEBUG:root:This is a debug message\n",
      "INFO:root:This is an info message\n"
     ]
    }
   ],
   "source": [
    "import logging\n",
    "import os\n",
    "\n",
    "# Define log path\n",
    "log_dir = r\"E:\\Code\\python logging\"\n",
    "log_filename = \"app.log\"\n",
    "log_path = os.path.join(log_dir, log_filename)\n",
    "os.makedirs(log_dir, exist_ok=True)\n",
    "\n",
    "# Configure logging\n",
    "logging.basicConfig(\n",
    "    filename=log_path,\n",
    "    filemode='w',\n",
    "    level=logging.DEBUG,\n",
    "    format='%(asctime)s - %(name)s - %(levelname)s - %(message)s',\n",
    "    datefmt='%Y-%m-%d %H:%M:%S'\n",
    ")\n",
    "\n",
    "# Add log messages\n",
    "logging.debug(\"This is a debug message\")\n",
    "logging.info(\"This is an info message\")\n",
    "\n",
    "# Ensure logs are flushed\n",
    "for handler in logging.root.handlers:\n",
    "    handler.flush()"
   ]
  },
  {
   "cell_type": "code",
   "execution_count": 6,
   "id": "5d50bd35",
   "metadata": {},
   "outputs": [
    {
     "name": "stderr",
     "output_type": "stream",
     "text": [
      "2025-06-16 Jun:27;15 - module1 -INFO -Info from module1\n",
      "2025-06-16 Jun:27;15 - module2 -ERROR -Error from module2\n"
     ]
    }
   ],
   "source": [
    "import logging\n",
    "\n",
    "# Configure logging first\n",
    "logging.basicConfig(\n",
    "    level=logging.DEBUG,\n",
    "    format='%(asctime)s - %(name)s - %(levelname)s - %(message)s',\n",
    "    datefmt='%Y-%m-%d %H:%M:%S'\n",
    ")\n",
    "\n",
    "# Create named loggers\n",
    "logger1 = logging.getLogger(\"module1\")\n",
    "logger2 = logging.getLogger(\"module2\")\n",
    "\n",
    "# Set individual logging levels\n",
    "logger1.setLevel(logging.INFO)\n",
    "logger2.setLevel(logging.ERROR)\n",
    "\n",
    "# Log messages\n",
    "logger1.info(\"Info from module1\")\n",
    "logger2.error(\"Error from module2\")\n",
    "logger1.debug(\"This debug from module1 will not show (level=INFO)\")\n",
    "logger2.info(\"This info from module2 will not show (level=ERROR)\")"
   ]
  },
  {
   "cell_type": "code",
   "execution_count": 7,
   "id": "9c8471b9",
   "metadata": {},
   "outputs": [
    {
     "name": "stderr",
     "output_type": "stream",
     "text": [
      "2025-06-16 Jun:27;26 - module2 -ERROR -error message\n"
     ]
    }
   ],
   "source": [
    "logger1.debug(\"this is debug message\")\n",
    "logger2.warning('This is warning message')\n",
    "logger2.error('error message')"
   ]
  }
 ],
 "metadata": {
  "kernelspec": {
   "display_name": "Python 3",
   "language": "python",
   "name": "python3"
  },
  "language_info": {
   "codemirror_mode": {
    "name": "ipython",
    "version": 3
   },
   "file_extension": ".py",
   "mimetype": "text/x-python",
   "name": "python",
   "nbconvert_exporter": "python",
   "pygments_lexer": "ipython3",
   "version": "3.12.0"
  }
 },
 "nbformat": 4,
 "nbformat_minor": 5
}
