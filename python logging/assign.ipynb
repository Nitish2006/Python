{
 "cells": [
  {
   "cell_type": "code",
   "execution_count": 1,
   "id": "1ab7045e",
   "metadata": {},
   "outputs": [],
   "source": [
    "import logging\n"
   ]
  },
  {
   "cell_type": "code",
   "execution_count": 2,
   "id": "eeafcac1",
   "metadata": {},
   "outputs": [
    {
     "name": "stderr",
     "output_type": "stream",
     "text": [
      "2025-06-16 18:23:50,419- my_logger -DEBUG -this is a debug\n",
      "2025-06-16 18:23:50,420- my_logger -INFO -this info msg\n",
      "2025-06-16 18:23:50,420- my_logger -CRITICAL -this is critical\n",
      "2025-06-16 18:23:50,421- my_logger -ERROR -this an error\n",
      "2025-06-16 18:23:50,421- my_logger -WARNING -warning log\n"
     ]
    }
   ],
   "source": [
    "logger=logging.getLogger('my_logger')\n",
    "logger.setLevel(logging.DEBUG)\n",
    "file=logging.FileHandler('app3.log')\n",
    "console=logging.StreamHandler()\n",
    "file.setLevel(logging.DEBUG)\n",
    "console.setLevel(logging.DEBUG)\n",
    "formatter=logging.Formatter('%(asctime)s- %(name)s -%(levelname)s -%(message)s')\n",
    "file.setFormatter(formatter)\n",
    "console.setFormatter(formatter)\n",
    "logger.addHandler(file)\n",
    "logger.addHandler(console)\n",
    "logger.debug(\"this is a debug\")\n",
    "logger.info(\"this info msg\")\n",
    "logger.critical('this is critical')\n",
    "#logging.fatal('this is afatal')\n",
    "logger.error(\"this an error\")\n",
    "logger.warning(\"warning log\")\n",
    "\n"
   ]
  },
  {
   "cell_type": "code",
   "execution_count": 3,
   "id": "c20932bf",
   "metadata": {},
   "outputs": [],
   "source": [
    "from logging.handlers import RotatingFileHandler\n",
    "\n",
    "def logger_with_rotating_file_handler():\n",
    "    logger = logging.getLogger('rotating_logger')\n",
    "    logger.setLevel(logging.DEBUG)\n",
    "    \n",
    "    rotating_handler = RotatingFileHandler('rotating_app.log', maxBytes=2000, backupCount=5)\n",
    "    formatter = logging.Formatter('%(asctime)s - %(name)s - %(levelname)s - %(message)s')\n",
    "    rotating_handler.setFormatter(formatter)\n",
    "    \n",
    "    logger.addHandler(rotating_handler)\n",
    "    \n",
    "    for i in range(100):\n",
    "        logger.debug('This is debug message number {}'.format(i))\n",
    "\n",
    "# Test the function\n",
    "logger_with_rotating_file_handler()"
   ]
  },
  {
   "cell_type": "code",
   "execution_count": 4,
   "id": "02872ac0",
   "metadata": {},
   "outputs": [
    {
     "name": "stderr",
     "output_type": "stream",
     "text": [
      "2025-06-16 18:26:10,316 - root - DEBUG - This is a debug message\n",
      "2025-06-16 18:26:10,316 - root - INFO - This is an info message\n",
      "2025-06-16 18:26:10,319 - root - WARNING - This is a warning message\n",
      "2025-06-16 18:26:10,320 - root - ERROR - This is an error message\n",
      "2025-06-16 18:26:10,321 - root - CRITICAL - This is a critical message\n"
     ]
    }
   ],
   "source": [
    "import logging.config\n",
    "\n",
    "def configure_logging_with_dict():\n",
    "    log_config = {\n",
    "        'version': 1,\n",
    "        'formatters': {\n",
    "            'default': {\n",
    "                'format': '%(asctime)s - %(name)s - %(levelname)s - %(message)s'\n",
    "            },\n",
    "            'detailed': {\n",
    "                'format': '%(asctime)s - %(name)s - %(levelname)s - %(message)s - %(funcName)s - %(lineno)d'\n",
    "            }\n",
    "        },\n",
    "        'handlers': {\n",
    "            'file': {\n",
    "                'class': 'logging.FileHandler',\n",
    "                'filename': 'dict_config_app.log',\n",
    "                'formatter': 'detailed',\n",
    "                'level': 'DEBUG'\n",
    "            },\n",
    "            'console': {\n",
    "                'class': 'logging.StreamHandler',\n",
    "                'formatter': 'default',\n",
    "                'level': 'DEBUG'\n",
    "            }\n",
    "        },\n",
    "        'root': {\n",
    "            'handlers': ['file', 'console'],\n",
    "            'level': 'DEBUG'\n",
    "        }\n",
    "    }\n",
    "    logging.config.dictConfig(log_config)\n",
    "    logger = logging.getLogger('')\n",
    "    logger.debug('This is a debug message')\n",
    "    logger.info('This is an info message')\n",
    "    logger.warning('This is a warning message')\n",
    "    logger.error('This is an error message')\n",
    "    logger.critical('This is a critical message')\n",
    "\n",
    "# Test the function\n",
    "configure_logging_with_dict()"
   ]
  }
 ],
 "metadata": {
  "kernelspec": {
   "display_name": "Python 3",
   "language": "python",
   "name": "python3"
  },
  "language_info": {
   "codemirror_mode": {
    "name": "ipython",
    "version": 3
   },
   "file_extension": ".py",
   "mimetype": "text/x-python",
   "name": "python",
   "nbconvert_exporter": "python",
   "pygments_lexer": "ipython3",
   "version": "3.12.0"
  }
 },
 "nbformat": 4,
 "nbformat_minor": 5
}
