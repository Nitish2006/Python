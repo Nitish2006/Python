{
 "cells": [
  {
   "cell_type": "code",
   "execution_count": null,
   "id": "3306c284",
   "metadata": {},
   "outputs": [],
   "source": [
    "import sys\n",
    "year = int(sys.stdin.readline().strip())\n",
    "if year % 4 == 0:\n",
    "    if year % 100 != 0 or year % 400 == 0:\n",
    "        print(year, \"is a leap year\")\n",
    "    else:\n",
    "        print(year, \"is not a leap year\")\n",
    "else:\n",
    "    print(year, \"is not a leap year\")"
   ]
  }
 ],
 "metadata": {
  "kernelspec": {
   "display_name": "base",
   "language": "python",
   "name": "python3"
  },
  "language_info": {
   "codemirror_mode": {
    "name": "ipython",
    "version": 3
   },
   "file_extension": ".py",
   "mimetype": "text/x-python",
   "name": "python",
   "nbconvert_exporter": "python",
   "pygments_lexer": "ipython3",
   "version": "3.12.7"
  }
 },
 "nbformat": 4,
 "nbformat_minor": 5
}
