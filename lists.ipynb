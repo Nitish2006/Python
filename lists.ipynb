{
 "cells": [
  {
   "cell_type": "markdown",
   "id": "523d1f7e",
   "metadata": {},
   "source": [
    "Lists\n",
    "->creation\n",
    "->slicing\n",
    "->accessing\n",
    "->list methods\n",
    "->modifying\n",
    "->iterating\n",
    "->list comphrehensions\n",
    "->errors\n",
    "\n",
    "->methods\n"
   ]
  },
  {
   "cell_type": "markdown",
   "id": "7fb0411d",
   "metadata": {},
   "source": [
    "lists are mutable\n",
    "lists can be used for various purposes\n",
    "->making tuple and sets as mutable"
   ]
  },
  {
   "cell_type": "code",
   "execution_count": 7,
   "id": "a0108d7b",
   "metadata": {},
   "outputs": [
    {
     "name": "stdout",
     "output_type": "stream",
     "text": [
      "<class 'list'>\n",
      "<class 'list'>\n",
      "['sai', 1, 1.5, True, [1, 2, 3]]\n"
     ]
    }
   ],
   "source": [
    "l=[]\n",
    "print(type(l))\n",
    "l.append('sai')\n",
    "print(type(l))\n",
    "l.append(1)\n",
    "l.append(1.5)\n",
    "l.append(True)\n",
    "l.append([1,2,3])\n",
    "print((l))"
   ]
  },
  {
   "cell_type": "markdown",
   "id": "8f21c99e",
   "metadata": {},
   "source": [
    "reverse\n"
   ]
  },
  {
   "cell_type": "code",
   "execution_count": 8,
   "id": "cb87f128",
   "metadata": {},
   "outputs": [
    {
     "name": "stdout",
     "output_type": "stream",
     "text": [
      "[[1, 2, 3], True, 1.5, 1, 'sai']\n"
     ]
    }
   ],
   "source": [
    "print(l[::-1])"
   ]
  },
  {
   "cell_type": "markdown",
   "id": "01f6d778",
   "metadata": {},
   "source": [
    "modify"
   ]
  },
  {
   "cell_type": "code",
   "execution_count": 12,
   "id": "335ca349",
   "metadata": {},
   "outputs": [
    {
     "name": "stdout",
     "output_type": "stream",
     "text": [
      "['sai', 1, 'watermelon', True]\n",
      "['sai', 1, 'watermelon']\n"
     ]
    }
   ],
   "source": [
    "l[2]='watermelon'\n",
    "print(l)\n",
    "l.pop()\n",
    "print(l)"
   ]
  },
  {
   "cell_type": "code",
   "execution_count": 13,
   "id": "554434f4",
   "metadata": {},
   "outputs": [],
   "source": [
    "fruits = [\"Apples\", \"Bananas\", \"Oranges\", \"Grapes\", \"Mangoes\"]\n",
    "\n"
   ]
  },
  {
   "cell_type": "markdown",
   "id": "731eba87",
   "metadata": {},
   "source": [
    "list methods"
   ]
  },
  {
   "cell_type": "code",
   "execution_count": null,
   "id": "abf2d99d",
   "metadata": {},
   "outputs": [
    {
     "name": "stdout",
     "output_type": "stream",
     "text": [
      "Count of Apples: 1\n",
      "Index of Mangoes: 0\n",
      "Extended fruits list: ['Strawberries', 'Strawberries', 'Strawberries', 'Pineapples', 'Pineapples', 'Pineapples', 'Pineapples', 'Pineapples', 'Pineapples', 'Pineapples', 'Oranges', 'Grapes', 'Apples', 'Peaches', 'Plums']\n"
     ]
    }
   ],
   "source": [
    "#append\n",
    "fruits.append(\"Pineapples\")\n",
    "#insert\n",
    "fruits.insert(2, \"Strawberries\")\n",
    "#remove\n",
    "#fruits.remove('Bananas')\n",
    "#pop\n",
    "fruits.pop(3)\n",
    "#sort\n",
    "fruits.sort()\n",
    "#reverse\n",
    "fruits.reverse()\n",
    "#count\n",
    "count_of_apples = fruits.count(\"Apples\")\n",
    "print(\"Count of Apples:\", count_of_apples)\n",
    "#index\n",
    "index_of_mangoes = fruits.index(\"Strawberries\")\n",
    "print(\"Index of Mangoes:\", index_of_mangoes)\n",
    "#extend\n",
    "fruits.extend([\"Peaches\", \"Plums\"])\n",
    "print(\"Extended fruits list:\", fruits)\n",
    "#clear\n",
    "fruits.clear()\n",
    "print()"
   ]
  },
  {
   "cell_type": "markdown",
   "id": "6d3f1b11",
   "metadata": {},
   "source": [
    "slice🍕\n"
   ]
  },
  {
   "cell_type": "code",
   "execution_count": 2,
   "id": "2719299a",
   "metadata": {},
   "outputs": [
    {
     "name": "stdout",
     "output_type": "stream",
     "text": [
      "[2, 3, 4, 5, 6, 7, 8, 9]\n",
      "[2, 4, 6, 8]\n",
      "[1, 3, 5, 7, 9]\n",
      "[10, 9, 8, 7, 6, 5, 4, 3, 2, 1]\n"
     ]
    }
   ],
   "source": [
    "number=[1,2,3,4,5,6,7,8,9,10]\n",
    "#slicing\n",
    "print(number[1:9])\n",
    "print(number[1:9:2])  # every second element\n",
    "print(number[::2])  # every second element from start to end    \n",
    "print(number[::-1])  # reverse the list"
   ]
  },
  {
   "cell_type": "markdown",
   "id": "5a7d4c68",
   "metadata": {},
   "source": [
    "list comprehension"
   ]
  },
  {
   "cell_type": "code",
   "execution_count": 4,
   "id": "6f6ea72b",
   "metadata": {},
   "outputs": [
    {
     "name": "stdout",
     "output_type": "stream",
     "text": [
      "[0, 2, 4, 6, 8, 10, 12, 14, 16, 18, 20, 22, 24, 26, 28, 30, 32, 34, 36, 38, 40, 42, 44, 46, 48, 50, 52, 54, 56, 58, 60, 62, 64, 66, 68, 70, 72, 74, 76, 78, 80, 82, 84, 86, 88, 90, 92, 94, 96, 98]\n"
     ]
    }
   ],
   "source": [
    "l=[x for x in range(100) if x%2==0]\n",
    "print(l)"
   ]
  }
 ],
 "metadata": {
  "kernelspec": {
   "display_name": "Python 3",
   "language": "python",
   "name": "python3"
  },
  "language_info": {
   "codemirror_mode": {
    "name": "ipython",
    "version": 3
   },
   "file_extension": ".py",
   "mimetype": "text/x-python",
   "name": "python",
   "nbconvert_exporter": "python",
   "pygments_lexer": "ipython3",
   "version": "3.12.0"
  }
 },
 "nbformat": 4,
 "nbformat_minor": 5
}
